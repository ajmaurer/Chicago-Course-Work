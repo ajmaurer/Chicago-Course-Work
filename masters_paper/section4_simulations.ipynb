{
 "cells": [
  {
   "cell_type": "code",
   "execution_count": 1,
   "metadata": {
    "collapsed": true
   },
   "outputs": [],
   "source": [
    "# Imports\n",
    "import numpy as np\n",
    "import numpy.linalg as nplin\n",
    "import numpy.random as npran\n",
    "import scipy as sp\n",
    "import scipy.linalg as splin\n",
    "import scipy.stats as spstat1gt\n",
    "import matplotlib.pyplot as plt\n",
    "import inspect\n",
    "import requests\n",
    "from __future__ import division\n",
    "from multiprocessing import Pool\n",
    "\n",
    "import glmnet\n",
    "reload(glmnet)\n",
    "import knockoffGLM as ko\n",
    "reload(ko)       # as I update it\n",
    "import simulate as sim\n",
    "reload(sim)\n",
    "import pandas as pd\n",
    "\n",
    "# show pyplots in the notebook\n",
    "%matplotlib inline"
   ]
  },
  {
   "cell_type": "code",
   "execution_count": 4,
   "metadata": {
    "collapsed": false
   },
   "outputs": [],
   "source": [
    "from compare import *\n",
    "genes = np.genfromtxt('data/SNPdata.txt', delimiter=',')\n",
    "np.place(genes,genes!=0,1)\n",
    "X = given_X(100,1000,genes)"
   ]
  },
  {
   "cell_type": "code",
   "execution_count": 20,
   "metadata": {
    "collapsed": false
   },
   "outputs": [],
   "source": [
    "# failing that, backup seeds gotten by good ol copy and paste\n",
    "with open('data/backup_seeds.txt','r') as f:\n",
    "    seeds = [int(seed) for seed in f.read().split()]"
   ]
  },
  {
   "cell_type": "code",
   "execution_count": null,
   "metadata": {
    "collapsed": true
   },
   "outputs": [],
   "source": [
    "np.arange(10,20)[npran.permutation(10)]"
   ]
  },
  {
   "cell_type": "code",
   "execution_count": 10,
   "metadata": {
    "collapsed": false
   },
   "outputs": [],
   "source": [
    "# Load the genetic data\n",
    "genes = np.genfromtxt('data/SNPdata.txt', delimiter=',')\n",
    "# replace all the 2s with 1s\n",
    "np.place(genes,genes!=0,1)"
   ]
  },
  {
   "cell_type": "code",
   "execution_count": null,
   "metadata": {
    "collapsed": false
   },
   "outputs": [
    {
     "name": "stdout",
     "output_type": "stream",
     "text": [
      "finished p=10, n=200\n",
      "finished p=10, n=500\n",
      "finished p=10, n=1000\n",
      "finished p=10, n=1500\n",
      "finished p=10, n=2000\n",
      "finished p=10, n=3000\n",
      "finished p=10, n=4000\n",
      "finished p=10, n=5000\n",
      "finished p=10, n=6500\n",
      "finished p=10, n=8000\n",
      "finished p=10, n=10000\n",
      "finished p=20, n=200Variable 8 fully relaxed\n",
      "Variable 12 fully relaxed\n",
      "Variable 16 fully relaxedVariable 10 fully relaxed\n",
      "\n",
      "Variable 18 relaxed by tau=0.25Variable 14 fully relaxed\n",
      "\n",
      "Variable 16 fully relaxedVariable 8 fully relaxed\n",
      "\n",
      "Variable 12 fully relaxedVariable 19 fully relaxed\n",
      "\n",
      "Variable 19 fully relaxedVariable 20 fully relaxed\n",
      "\n",
      "\n",
      "finished p=20, n=500\n",
      "finished p=20, n=1000\n",
      "finished p=20, n=1500\n",
      "finished p=20, n=2000\n",
      "finished p=20, n=3000\n",
      "finished p=20, n=4000\n",
      "finished p=20, n=5000\n",
      "finished p=20, n=6500\n",
      "finished p=20, n=8000\n",
      "finished p=20, n=10000\n",
      "finished p=30, n=200Variable 14 fully relaxedVariable 26 fully relaxed\n",
      "\n",
      "Variable 21 fully relaxedVariable 8 fully relaxed\n",
      "\n",
      "Variable 22 fully relaxedVariable 22 fully relaxed\n",
      "\n",
      "Variable 1 fully relaxedVariable 28 fully relaxed\n",
      "\n",
      "Variable 17 fully relaxedVariable 29 fully relaxed\n",
      "\n",
      "Variable 20 fully relaxedVariable 17 fully relaxed\n",
      "\n",
      "Variable 22 fully relaxedVariable 7 fully relaxed\n",
      "\n",
      "Variable 23 fully relaxedVariable 12 fully relaxed\n",
      "\n",
      "Variable 30 relaxed by tau=0.25Variable 14 fully relaxed\n",
      "\n",
      "Variable 21 fully relaxedVariable 9 fully relaxed\n",
      "\n",
      "Variable 25 fully relaxedVariable 19 fully relaxed\n",
      "\n",
      "Variable 12 fully relaxedVariable 26 fully relaxed\n",
      "\n",
      "Variable 7 fully relaxedVariable 30 fully relaxed\n",
      "\n",
      "Variable 30 relaxed by tau=0.25Variable 15 fully relaxed\n",
      "\n",
      "Variable 25 fully relaxedVariable 20 fully relaxed\n",
      "\n",
      "Variable 2 fully relaxedVariable 25 fully relaxed\n",
      "\n",
      "Variable 5 fully relaxedVariable 30 fully relaxed\n",
      "\n",
      "Variable 8 relaxed by tau=0.25Variable 27 fully relaxed\n",
      "\n",
      "Variable 9 relaxed by tau=0.50Variable 5 fully relaxed\n",
      "\n",
      "Variable 12 fully relaxedVariable 6 relaxed by tau=0.25\n",
      "\n",
      "Variable 24 fully relaxedVariable 9 fully relaxed\n",
      "\n",
      "Variable 25 fully relaxedVariable 16 fully relaxed\n",
      "\n",
      "Variable 26 fully relaxedVariable 19 fully relaxed\n",
      "\n",
      "Variable 27 fully relaxedVariable 21 fully relaxed\n",
      "\n",
      "Variable 24 fully relaxedVariable 22 fully relaxed\n",
      "\n",
      "Variable 5 fully relaxedVariable 23 fully relaxed\n",
      "\n",
      "Variable 6 fully relaxedVariable 24 fully relaxed\n",
      "\n",
      "Variable 7 fully relaxedVariable 27 fully relaxed\n",
      "\n",
      "Variable 20 fully relaxedVariable 28 fully relaxed\n",
      "\n",
      "Variable 25 fully relaxedVariable 29 fully relaxed\n",
      "\n",
      "Variable 8 fully relaxedVariable 30 fully relaxed\n",
      "\n",
      "Variable 13 fully relaxedVariable 5 fully relaxed\n",
      "\n",
      "Variable 19 fully relaxedVariable 6 fully relaxed\n",
      "\n",
      "Variable 24 fully relaxedVariable 11 fully relaxed\n",
      "\n",
      "Variable 20 fully relaxedVariable 12 fully relaxed\n",
      "\n",
      "Variable 26 fully relaxedVariable 16 fully relaxed\n",
      "\n",
      "Variable 28 fully relaxedVariable 18 fully relaxed\n",
      "\n",
      "Variable 28 fully relaxedVariable 21 fully relaxed\n",
      "\n",
      "Variable 3 fully relaxedVariable 26 fully relaxed\n",
      "\n",
      "Variable 6 fully relaxedVariable 28 relaxed by tau=0.50\n",
      "\n",
      "Variable 8 fully relaxedVariable 29 fully relaxed\n",
      "\n",
      "Variable 9 fully relaxedVariable 30 fully relaxed\n",
      "\n",
      "Variable 13 fully relaxedVariable 2 relaxed by tau=0.50\n",
      "\n",
      "Variable 17 fully relaxedVariable 7 fully relaxed\n",
      "\n",
      "Variable 19 fully relaxedVariable 10 fully relaxed\n",
      "\n",
      "Variable 20 fully relaxedVariable 15 fully relaxed\n",
      "\n",
      "Variable 21 fully relaxedVariable 27 fully relaxed\n",
      "\n",
      "Variable 22 fully relaxedVariable 16 fully relaxed\n",
      "\n",
      "Variable 23 fully relaxedVariable 26 fully relaxed\n",
      "\n",
      "Variable 24 fully relaxedVariable 8 fully relaxed\n",
      "\n",
      "Variable 27 fully relaxedVariable 22 fully relaxed\n",
      "\n",
      "Variable 28 fully relaxedVariable 11 fully relaxed\n",
      "\n",
      "Variable 29 fully relaxedVariable 14 fully relaxed\n",
      "\n",
      "Variable 30 fully relaxedVariable 15 fully relaxed\n",
      "\n",
      "Variable 8 fully relaxedVariable 19 fully relaxed\n",
      "\n",
      "Variable 10 relaxed by tau=0.25Variable 23 fully relaxed\n",
      "\n",
      "Variable 19 fully relaxedVariable 24 relaxed by tau=0.25\n",
      "\n",
      "Variable 21 fully relaxedVariable 21 fully relaxed\n",
      "\n",
      "Variable 23 fully relaxedVariable 26 fully relaxed\n",
      "\n",
      "Variable 26 fully relaxedVariable 11 fully relaxed\n",
      "\n",
      "Variable 12 relaxed by tau=0.25Variable 22 fully relaxed\n",
      "\n",
      "Variable 29 fully relaxedVariable 14 fully relaxed\n",
      "\n",
      "Variable 10 fully relaxedVariable 16 fully relaxed\n",
      "\n",
      "Variable 11 relaxed by tau=0.25Variable 30 fully relaxed\n",
      "\n",
      "\n",
      "finished p=30, n=500Variable 4 fully relaxedVariable 23 relaxed by tau=0.25\n",
      "\n",
      "Variable 6 fully relaxedVariable 29 fully relaxed\n",
      "\n",
      "Variable 11 fully relaxedVariable 18 relaxed by tau=0.25\n",
      "\n",
      "Variable 26 fully relaxedVariable 22 fully relaxed\n",
      "\n",
      "Variable 3 fully relaxedVariable 27 fully relaxed\n",
      "\n",
      "Variable 7 fully relaxedVariable 9 fully relaxed\n",
      "\n",
      "Variable 13 fully relaxedVariable 15 relaxed by tau=0.50\n",
      "\n",
      "Variable 14 fully relaxedVariable 22 fully relaxed\n",
      "\n",
      "Variable 20 fully relaxedVariable 23 relaxed by tau=0.50\n",
      "\n",
      "Variable 23 fully relaxedVariable 26 fully relaxed\n",
      "\n",
      "Variable 25 fully relaxedVariable 4 fully relaxed\n",
      "\n",
      "Variable 26 fully relaxedVariable 8 fully relaxed\n",
      "\n",
      "Variable 27 relaxed by tau=0.25Variable 9 fully relaxed\n",
      "\n",
      "Variable 29 relaxed by tau=0.25Variable 10 fully relaxed\n",
      "\n",
      "Variable 30 fully relaxedVariable 13 fully relaxed\n",
      "\n",
      "Variable 3 fully relaxedVariable 14 relaxed by tau=0.50\n",
      "\n",
      "Variable 4 fully relaxedVariable 18 fully relaxed\n",
      "\n",
      "Variable 8 fully relaxedVariable 19 fully relaxed\n",
      "\n",
      "Variable 9 fully relaxedVariable 20 fully relaxed\n",
      "\n",
      "Variable 11 fully relaxedVariable 21 fully relaxed\n",
      "\n",
      "Variable 12 fully relaxedVariable 23 fully relaxed\n",
      "\n",
      "Variable 13 fully relaxedVariable 24 fully relaxed\n",
      "\n",
      "Variable 15 fully relaxedVariable 25 fully relaxed\n",
      "\n",
      "Variable 16 fully relaxedVariable 27 fully relaxed\n",
      "\n",
      "Variable 17 fully relaxedVariable 28 fully relaxed\n",
      "\n",
      "Variable 18 fully relaxedVariable 29 fully relaxed\n",
      "\n",
      "Variable 19 fully relaxedVariable 30 fully relaxed\n",
      "\n",
      "Variable 22 fully relaxedVariable 30 fully relaxed\n",
      "\n",
      "Variable 24 fully relaxedVariable 20 fully relaxed\n",
      "\n",
      "Variable 25 fully relaxed\n",
      "Variable 26 fully relaxed\n",
      "Variable 27 fully relaxed\n",
      "Variable 28 fully relaxed\n",
      "Variable 29 fully relaxed\n",
      "Variable 30 fully relaxed\n",
      "Variable 10 fully relaxed\n",
      "Variable 11 fully relaxed\n",
      "Variable 7 fully relaxed\n",
      "Variable 11 fully relaxed\n",
      "Variable 12 fully relaxed\n",
      "Variable 16 fully relaxed\n",
      "Variable 25 fully relaxed\n",
      "Variable 11 fully relaxed\n",
      "Variable 16 fully relaxed\n",
      "Variable 17 fully relaxed\n",
      "Variable 18 fully relaxed\n",
      "Variable 20 fully relaxed\n",
      "Variable 22 fully relaxed\n",
      "Variable 24 fully relaxed\n",
      "Variable 26 fully relaxed\n",
      "Variable 29 fully relaxed\n",
      "Variable 30 fully relaxed\n",
      "Variable 26 fully relaxed\n",
      "Variable 24 fully relaxed\n",
      "Variable 21 fully relaxed\n",
      "Variable 14 fully relaxed\n",
      "\n",
      "finished p=30, n=1000\n",
      "finished p=30, n=1500\n",
      "finished p=30, n=2000\n",
      "finished p=30, n=3000\n",
      "finished p=30, n=4000\n",
      "finished p=30, n=5000\n",
      "finished p=30, n=6500\n",
      "finished p=30, n=8000\n",
      "finished p=30, n=10000"
     ]
    }
   ],
   "source": [
    "import compare as comp\n",
    "\n",
    "with open('data/backup_seeds.txt','r') as f:\n",
    "    seeds = [int(seed) for seed in f.read().split()]\n",
    "\n",
    "ns = [200,500,1000,1500,2000,3000,4000,5000,6500,8000,10000]\n",
    "b = 50\n",
    "ps = [10,20,30,40]\n",
    "MCs = [10000,25000,50000,100000]\n",
    "fit_data = np.load('data/sigma_fit.npy')\n",
    "s_data   = np.load('data/sfit.npy')\n",
    "\n",
    "def gen_logit(input):\n",
    "    \" Testing function, all parameters are in a single tuple \"\"\"\n",
    "    seed,n,p,MCsize = input\n",
    "    npran.seed(seed)\n",
    "    X = comp.ising_X(p,n)\n",
    "    y = comp.bern_y(X,1)\n",
    "\n",
    "    model = ko.knockoff_logit(y,X,.2,\n",
    "                            knockoff='binary',\n",
    "                            MCsize=MCsize,\n",
    "                            fresh_sim=True,\n",
    "                            intercept=True\n",
    "                            ) \n",
    "    model._binary_knockoff()   \n",
    "    return (model.M_distortion,np.mean([cor for cor in model.emp_ko_corr if not np.isnan(cor)]))\n",
    "\n",
    "pool = Pool(processes=2)\n",
    "\n",
    "for i in range(len(ps)):\n",
    "    for j in range(len(ns)):\n",
    "        params = zip(np.array(seeds)[npran.choice(len(seeds),b)],np.ones(b)*ns[j],np.ones(b)*ps[i],np.ones(b)*MCs[i])\n",
    "\n",
    "        measures = pool.map(gen_logit,params)\n",
    "        fit_data[i,j] = np.mean([m1 for (m1,m2) in measures])\n",
    "        s_data[i,j] = np.mean([m2 for (m1,m2) in measures])\n",
    "        with open('data/sigma_fit.npy','w') as f:\n",
    "            np.save(f,fit_data)\n",
    "        with open('data/sfit.npy','w') as f:\n",
    "            np.save(f,s_data)\n",
    "        print 'finished p=%d, n=%d' % (ps[i],ns[j])\n",
    "\n",
    "pool.close()        \n",
    "        \n",
    "# Plot  \n",
    "f,subplts = plt.subplots(2,1)\n",
    "f.set_size_inches(4,4)\n",
    "\n",
    "subplts[0].set_xlim(0,max(ns))\n",
    "subplts[0].set_ylim(0,.25)\n",
    "subplts[0].set_xlabel('Observations')\n",
    "subplts[0].set_ylabel('Gram Distortion')\n",
    "for i in range(len(ps)):\n",
    "    subplts[0].plot(ns,fit_data[i,:],label='p=%d' % ps[i],marker='.')\n",
    "\n",
    "subplts[1].set_xlim(0,max(ns))\n",
    "subplts[1].set_ylim(0,1)\n",
    "subplts[1].set_xlabel('Observations')\n",
    "subplts[1].set_ylabel('Knockoff Correlation')\n",
    "for i in range(len(ps)):\n",
    "    subplts[1].plot(ns,s_data[i,:],label='p=%d' % ps[i],marker='.')\n",
    "\n",
    "subplts[1].legend(bbox_to_anchor=(1.05, 0), loc='lower left', borderaxespad=0.)\n",
    "\n",
    "plt.savefig('images/sigma_fit.pdf',bbox_inches='tight')      \n"
   ]
  },
  {
   "cell_type": "code",
   "execution_count": 4,
   "metadata": {
    "collapsed": false
   },
   "outputs": [
    {
     "data": {
      "image/png": "[encoded data removed]",
      "text/plain": [
       "<matplotlib.figure.Figure at 0x7fd95ce70150>"
      ]
     },
     "metadata": {},
     "output_type": "display_data"
    }
   ],
   "source": [
    "# Plot  \n",
    "f,subplts = plt.subplots(2,1,sharex=True)\n",
    "f.set_size_inches(4,4)\n",
    "\n",
    "subplts[0].set_xlim(0,max(ns))\n",
    "subplts[0].set_ylim(0,.25)\n",
    "subplts[0].set_xlabel('Observations')\n",
    "subplts[0].set_ylabel('Gram Distortion')\n",
    "for i in range(len(ps)):\n",
    "    subplts[0].plot(ns,fit_data[i,:],label='p=%d' % ps[i],marker='.')\n",
    "\n",
    "subplts[1].set_xlim(0,max(ns))\n",
    "subplts[1].set_ylim(0,1)\n",
    "subplts[1].set_xlabel('Observations')\n",
    "subplts[1].set_ylabel('Knockoff Correlation')\n",
    "for i in range(len(ps)):\n",
    "    subplts[1].plot(ns,s_data[i,:],label='p=%d' % ps[i],marker='.')\n",
    "\n",
    "subplts[1].legend(bbox_to_anchor=(1.05, 0), loc='lower left', borderaxespad=0.)\n",
    "\n",
    "plt.savefig('images/sigma_fit.pdf',bbox_inches='tight') "
   ]
  },
  {
   "cell_type": "markdown",
   "metadata": {},
   "source": [
    "### Compare performance with LASSO"
   ]
  },
  {
   "cell_type": "code",
   "execution_count": 2,
   "metadata": {
    "collapsed": true
   },
   "outputs": [],
   "source": [
    "lasso_data = pd.read_table('data/lasso_test_100.txt',\n",
    "                           header=0,\n",
    "                           names=['seed','gen','p1','dist','bin_ko_corr','bin_fdr','bin_power','ori_ko_corr','ori_fdr','ori_power','corr']\n",
    "                          )\n",
    "\n",
    "logit_data = pd.read_table('data/logit_test_100.txt',\n",
    "                           header=0,\n",
    "                           names=['seed','gen','p1','dist','ko_corr','fdr','power']\n",
    "                          )\n",
    "\n"
   ]
  },
  {
   "cell_type": "code",
   "execution_count": 20,
   "metadata": {
    "collapsed": false
   },
   "outputs": [
    {
     "data": {
      "text/html": [
       "<div>\n",
       "<table border=\"1\" class=\"dataframe\">\n",
       "  <thead>\n",
       "    <tr style=\"text-align: right;\">\n",
       "      <th></th>\n",
       "      <th>seed</th>\n",
       "      <th>gen</th>\n",
       "      <th>dist</th>\n",
       "      <th>ko_corr</th>\n",
       "      <th>fdr</th>\n",
       "      <th>power</th>\n",
       "    </tr>\n",
       "    <tr>\n",
       "      <th>p1</th>\n",
       "      <th></th>\n",
       "      <th></th>\n",
       "      <th></th>\n",
       "      <th></th>\n",
       "      <th></th>\n",
       "      <th></th>\n",
       "    </tr>\n",
       "  </thead>\n",
       "  <tbody>\n",
       "    <tr>\n",
       "      <th>5</th>\n",
       "      <td>175</td>\n",
       "      <td>175</td>\n",
       "      <td>175</td>\n",
       "      <td>175</td>\n",
       "      <td>175</td>\n",
       "      <td>175</td>\n",
       "    </tr>\n",
       "    <tr>\n",
       "      <th>10</th>\n",
       "      <td>175</td>\n",
       "      <td>175</td>\n",
       "      <td>175</td>\n",
       "      <td>175</td>\n",
       "      <td>175</td>\n",
       "      <td>175</td>\n",
       "    </tr>\n",
       "    <tr>\n",
       "      <th>15</th>\n",
       "      <td>175</td>\n",
       "      <td>175</td>\n",
       "      <td>175</td>\n",
       "      <td>175</td>\n",
       "      <td>175</td>\n",
       "      <td>175</td>\n",
       "    </tr>\n",
       "    <tr>\n",
       "      <th>20</th>\n",
       "      <td>175</td>\n",
       "      <td>175</td>\n",
       "      <td>175</td>\n",
       "      <td>175</td>\n",
       "      <td>175</td>\n",
       "      <td>175</td>\n",
       "    </tr>\n",
       "    <tr>\n",
       "      <th>25</th>\n",
       "      <td>175</td>\n",
       "      <td>175</td>\n",
       "      <td>175</td>\n",
       "      <td>175</td>\n",
       "      <td>175</td>\n",
       "      <td>175</td>\n",
       "    </tr>\n",
       "  </tbody>\n",
       "</table>\n",
       "</div>"
      ],
      "text/plain": [
       "    seed  gen  dist  ko_corr  fdr  power\n",
       "p1                                      \n",
       "5    175  175   175      175  175    175\n",
       "10   175  175   175      175  175    175\n",
       "15   175  175   175      175  175    175\n",
       "20   175  175   175      175  175    175\n",
       "25   175  175   175      175  175    175"
      ]
     },
     "execution_count": 20,
     "metadata": {},
     "output_type": "execute_result"
    }
   ],
   "source": [
    "logit_data.groupby('p1').count()"
   ]
  },
  {
   "cell_type": "code",
   "execution_count": 16,
   "metadata": {
    "collapsed": false
   },
   "outputs": [
    {
     "data": {
      "image/png": "[encoded data removed]",
      "text/plain": [
       "<matplotlib.figure.Figure at 0x7f3ee8650ed0>"
      ]
     },
     "metadata": {},
     "output_type": "display_data"
    },
    {
     "data": {
      "image/png": "[encoded data removed]",
      "text/plain": [
       "<matplotlib.figure.Figure at 0x7f3ee7d89710>"
      ]
     },
     "metadata": {},
     "output_type": "display_data"
    }
   ],
   "source": [
    "p1s = [5,10,15,20,25]\n",
    "q = .2\n",
    "\n",
    "lasso_data = pd.read_table('data/lasso_test_100.txt',\n",
    "                           header=0,\n",
    "                           names=['seed','gen','p1','dist','bin_ko_corr','bin_fdr','bin_power','ori_ko_corr','ori_fdr','ori_power','corr']\n",
    "                          )\n",
    "\n",
    "logit_data = pd.read_table('data/logit_test_100.txt',\n",
    "                           header=0,\n",
    "                           names=['seed','gen','p1','dist','ko_corr','fdr','power']\n",
    "                          )\n",
    "\n",
    "\n",
    "# FDR and Power\n",
    "f,subplts = plt.subplots(1,2)\n",
    "f.set_size_inches(8,4)\n",
    "\n",
    "# FDR Plot\n",
    "subplts[0].set_xlim(0,max(p1s))\n",
    "subplts[0].set_ylim(0,q*2)\n",
    "subplts[0].set_xlabel('Sparsity')\n",
    "subplts[0].set_ylabel('FDR')\n",
    "subplts[0].plot(p1s,lasso_data.groupby('p1').mean().bin_fdr,label=\"Binary\", linestyle='--', marker='v', color='g')\n",
    "subplts[0].plot(p1s,lasso_data.groupby('p1').mean().ori_fdr,label=\"Original\", linestyle='--', marker='v', color='r')\n",
    "\n",
    "subplts[0].plot((0,max(p1s)),(q,q),'k--')\n",
    "\n",
    "# power plot\n",
    "subplts[1].set_xlim(0,max(p1s))\n",
    "subplts[1].set_ylim(0,1)\n",
    "subplts[1].set_xlabel('Sparsity')\n",
    "subplts[1].set_ylabel('Power')\n",
    "subplts[1].plot(p1s,lasso_data.groupby('p1').mean().bin_power,label=\"Binary\", linestyle='--', marker='v', color='g')\n",
    "subplts[1].plot(p1s,lasso_data.groupby('p1').mean().ori_power,label=\"Original\", linestyle='--', marker='v', color='r')\n",
    "\n",
    "\n",
    "# Legend\n",
    "subplts[1].legend(bbox_to_anchor=(1.05, 0), loc='lower left', borderaxespad=0.)\n",
    "\n",
    "plt.savefig('images/lasso_FDR_power.pdf',bbox_inches='tight')      \n",
    "     \n",
    "# Correlation plot  \n",
    "f,ax = plt.subplots(1)\n",
    "f.set_size_inches(4,4)\n",
    "\n",
    "ax.set_xlim(0,max(p1s))\n",
    "ax.set_ylim(0,1)\n",
    "ax.set_xlabel('Sparsity')\n",
    "ax.set_ylabel('Correlation')\n",
    "ax.plot(p1s,lasso_data.groupby('p1').mean()['corr'],linestyle='--', marker='v',label=\"Ising\")\n",
    "ax.legend(bbox_to_anchor=(1.05, 0), loc='lower left', borderaxespad=0.)\n",
    "\n",
    "subplts[1].legend(bbox_to_anchor=(1.05, 0), loc='lower left', borderaxespad=0.)\n",
    "\n",
    "plt.savefig('images/lasso_corr.pdf',bbox_inches='tight')  "
   ]
  },
  {
   "cell_type": "code",
   "execution_count": 18,
   "metadata": {
    "collapsed": false
   },
   "outputs": [
    {
     "data": {
      "image/png": "[encoded data removed]",
      "text/plain": [
       "<matplotlib.figure.Figure at 0x7f3ee869eed0>"
      ]
     },
     "metadata": {},
     "output_type": "display_data"
    }
   ],
   "source": [
    "n = 1000\n",
    "b = 100\n",
    "p = 50\n",
    "q = .2\n",
    "p1s = [5,10,15,20,25]\n",
    "\n",
    "# FDR and Power\n",
    "f,subplts = plt.subplots(1,2)\n",
    "f.set_size_inches(8,4)\n",
    "\n",
    "# FDR Plot\n",
    "subplts[0].set_xlim(0,max(p1s))\n",
    "subplts[0].set_ylim(0,q*3)\n",
    "subplts[0].set_xlabel('Sparsity')\n",
    "subplts[0].set_ylabel('FDR')\n",
    "subplts[0].plot(p1s,logit_data.groupby('p1').mean().fdr,label=\"Ising, Binary\", linestyle='--', marker='v')\n",
    "subplts[0].plot((0,max(p1s)),(q,q),'k--')\n",
    "\n",
    "# power plot\n",
    "subplts[1].set_xlim(0,max(p1s))\n",
    "subplts[1].set_ylim(0,1)\n",
    "subplts[1].set_xlabel('Sparsity')\n",
    "subplts[1].set_ylabel('Power')\n",
    "subplts[1].plot(p1s,logit_data.groupby('p1').mean().fdr,label=\"Ising, Binary\", linestyle='--', marker='v')\n",
    "\n",
    "# Legend\n",
    "subplts[1].legend(bbox_to_anchor=(1.05, 0), loc='lower left', borderaxespad=0.)\n",
    "\n",
    "plt.savefig('images/logit_FDR_power.pdf',bbox_inches='tight') "
   ]
  },
  {
   "cell_type": "code",
   "execution_count": 31,
   "metadata": {
    "collapsed": false
   },
   "outputs": [
    {
     "data": {
      "text/plain": [
       "array([[ 0.5091572 ,  0.35762432,  0.30769231,  0.29411765,  0.42857143],\n",
       "       [ 0.262     ,  0.361     ,  0.6       ,  0.6       ,  0.16      ]])"
      ]
     },
     "execution_count": 31,
     "metadata": {},
     "output_type": "execute_result"
    }
   ],
   "source": [
    "isl_data"
   ]
  },
  {
   "cell_type": "code",
   "execution_count": 32,
   "metadata": {
    "collapsed": false
   },
   "outputs": [
    {
     "data": {
      "text/plain": [
       "array([[  0.66232035,   0.4697818 ,  10.        ,   0.3       ,  15.        ],\n",
       "       [  0.258     ,   0.345     ,   0.3       ,  25.        ,   0.04      ]])"
      ]
     },
     "execution_count": 32,
     "metadata": {},
     "output_type": "execute_result"
    }
   ],
   "source": [
    "gen_data\n"
   ]
  },
  {
   "cell_type": "code",
   "execution_count": 37,
   "metadata": {
    "collapsed": false
   },
   "outputs": [
    {
     "data": {
      "image/png": "[encoded data removed]",
      "text/plain": [
       "<matplotlib.figure.Figure at 0x7fc60c2d6e90>"
      ]
     },
     "metadata": {},
     "output_type": "display_data"
    }
   ],
   "source": [
    "gen_data[:,2:]=np.nan\n",
    "isl_data[:,2:]=np.nan\n",
    "\n",
    "# FDR and Power\n",
    "f,subplts = plt.subplots(1,2)\n",
    "f.set_size_inches(8,4)\n",
    "\n",
    "# FDR Plot\n",
    "subplts[0].set_xlim(0,max(p1s))\n",
    "subplts[0].set_ylim(0,q*3)\n",
    "subplts[0].set_xlabel('Sparsity')\n",
    "subplts[0].set_ylabel('FDR')\n",
    "subplts[0].plot(p1s,isl_data[0,:],label=\"Ising, Binary\", linestyle='--', marker='v')\n",
    "subplts[0].plot(p1s,gen_data[0,:],label=\"Genetic, Binary\", linestyle='-', marker='o')\n",
    "subplts[0].plot((0,max(p1s)),(q,q),'k--')\n",
    "\n",
    "# power plot\n",
    "subplts[1].set_xlim(0,max(p1s))\n",
    "subplts[1].set_ylim(0,1)\n",
    "subplts[1].set_xlabel('Sparsity')\n",
    "subplts[1].set_ylabel('Power')\n",
    "subplts[1].plot(p1s,isl_data[1,:],label=\"Ising, Binary\", linestyle='--', marker='v')\n",
    "subplts[1].plot(p1s,gen_data[1,:],label=\"Genetic, Binary\", linestyle='-', marker='o')\n",
    "\n",
    "# Legend\n",
    "subplts[1].legend(bbox_to_anchor=(1.05, 0), loc='lower left', borderaxespad=0.)\n",
    "\n",
    "plt.savefig('images/logit_FDR_power.pdf',bbox_inches='tight') "
   ]
  },
  {
   "cell_type": "code",
   "execution_count": 39,
   "metadata": {
    "collapsed": false
   },
   "outputs": [
    {
     "data": {
      "text/plain": [
       "[2, 3, 4]"
      ]
     },
     "execution_count": 39,
     "metadata": {},
     "output_type": "execute_result"
    }
   ],
   "source": [
    "range(2,5)"
   ]
  },
  {
   "cell_type": "code",
   "execution_count": 2,
   "metadata": {
    "collapsed": false
   },
   "outputs": [
    {
     "data": {
      "text/plain": [
       "'51232'"
      ]
     },
     "execution_count": 2,
     "metadata": {},
     "output_type": "execute_result"
    }
   ],
   "source": [
    "str(5)+'1232'"
   ]
  },
  {
   "cell_type": "code",
   "execution_count": 35,
   "metadata": {
    "collapsed": false
   },
   "outputs": [
    {
     "data": {
      "text/plain": [
       "5.0674582231104308e-14"
      ]
     },
     "execution_count": 35,
     "metadata": {},
     "output_type": "execute_result"
    }
   ],
   "source": [
    "X,y = sim.genXy_given_X_norm_y(80,genes,1000,65,5)\n",
    "s,v,d = nplin.svd(X)\n",
    "min(v)"
   ]
  },
  {
   "cell_type": "code",
   "execution_count": 18,
   "metadata": {
    "collapsed": false
   },
   "outputs": [
    {
     "data": {
      "text/plain": [
       "1.2302364734335055e-14"
      ]
     },
     "execution_count": 18,
     "metadata": {},
     "output_type": "execute_result"
    }
   ],
   "source": [
    "min(v)"
   ]
  },
  {
   "cell_type": "code",
   "execution_count": 36,
   "metadata": {
    "collapsed": false
   },
   "outputs": [
    {
     "data": {
      "text/plain": [
       "1.151498540124827e-125"
      ]
     },
     "execution_count": 36,
     "metadata": {},
     "output_type": "execute_result"
    }
   ],
   "source": [
    ".75**1000"
   ]
  },
  {
   "cell_type": "code",
   "execution_count": 40,
   "metadata": {
    "collapsed": false
   },
   "outputs": [
    {
     "ename": "AttributeError",
     "evalue": "'module' object has no attribute 'notnan'",
     "output_type": "error",
     "traceback": [
      "\u001b[1;31m---------------------------------------------------------------------------\u001b[0m",
      "\u001b[1;31mAttributeError\u001b[0m                            Traceback (most recent call last)",
      "\u001b[1;32m<ipython-input-40-18afb802ed22>\u001b[0m in \u001b[0;36m<module>\u001b[1;34m()\u001b[0m\n\u001b[1;32m----> 1\u001b[1;33m \u001b[1;33m[\u001b[0m\u001b[0mi\u001b[0m \u001b[1;32mfor\u001b[0m \u001b[0mi\u001b[0m \u001b[1;32min\u001b[0m \u001b[0mrange\u001b[0m\u001b[1;33m(\u001b[0m\u001b[1;36m10\u001b[0m\u001b[1;33m)\u001b[0m \u001b[1;32mif\u001b[0m \u001b[0mnp\u001b[0m\u001b[1;33m.\u001b[0m\u001b[0mnotnan\u001b[0m\u001b[1;33m(\u001b[0m\u001b[0mi\u001b[0m\u001b[1;33m)\u001b[0m\u001b[1;33m]\u001b[0m\u001b[1;33m\u001b[0m\u001b[0m\n\u001b[0m",
      "\u001b[1;31mAttributeError\u001b[0m: 'module' object has no attribute 'notnan'"
     ]
    }
   ],
   "source": [
    "[i for i in range(10) if np.notnan(i)]"
   ]
  },
  {
   "cell_type": "code",
   "execution_count": null,
   "metadata": {
    "collapsed": true
   },
   "outputs": [],
   "source": []
  }
 ],
 "metadata": {
  "kernelspec": {
   "display_name": "Python 2",
   "language": "python",
   "name": "python2"
  },
  "language_info": {
   "codemirror_mode": {
    "name": "ipython",
    "version": 2
   },
   "file_extension": ".py",
   "mimetype": "text/x-python",
   "name": "python",
   "nbconvert_exporter": "python",
   "pygments_lexer": "ipython2",
   "version": "2.7.6"
  }
 },
 "nbformat": 4,
 "nbformat_minor": 0
}
