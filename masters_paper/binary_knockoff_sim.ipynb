{
 "cells": [
  {
   "cell_type": "code",
   "execution_count": 82,
   "metadata": {
    "collapsed": false
   },
   "outputs": [],
   "source": [
    "# Imports\n",
    "import numpy as np\n",
    "import numpy.linalg as nplin\n",
    "import numpy.random as npran\n",
    "import scipy as sp\n",
    "import scipy.linalg as splin\n",
    "import scipy.stats as spstat\n",
    "import matplotlib.pyplot as plt\n",
    "import inspect\n",
    "import requests\n",
    "from __future__ import division\n",
    "\n",
    "import glmnet\n",
    "reload(glmnet)\n",
    "import knockoffGLM as ko\n",
    "reload(ko)       # as I update it\n",
    "import simulate as sim\n",
    "reload(sim)\n",
    "\n",
    "# show pyplots in the notebook\n",
    "%matplotlib inline"
   ]
  },
  {
   "cell_type": "code",
   "execution_count": 48,
   "metadata": {
    "collapsed": false
   },
   "outputs": [],
   "source": [
    "# Since I'm parrallel computing, need to make sure I'm using different seeeds to generate random numbers\n",
    "# these come from random.org, and should be truely random\n",
    "# the function is a tad spotty due parsing a web page isntead of using the API, so may need to be run a few times\n",
    "# also, it errors out when the request is rejected due to server load\n",
    "seeds1 = sim.getRandomIntegers(num=1000,min=1,max=1000000000)\n",
    "seeds2 = sim.getRandomIntegers(num=1000,min=1,max=1000000000)"
   ]
  },
  {
   "cell_type": "markdown",
   "metadata": {},
   "source": [
    "Lets see how far off the emperical cross moments are from the desired ones when we have a really easy case - pretty much 0 covariance."
   ]
  },
  {
   "cell_type": "code",
   "execution_count": 83,
   "metadata": {
    "collapsed": false
   },
   "outputs": [
    {
     "name": "stdout",
     "output_type": "stream",
     "text": [
      "Difference of M and M hat has 0.085 of Ms norm\n",
      "0 of the variables needed relaxation\n"
     ]
    }
   ],
   "source": [
    "n = 1000\n",
    "p = 50\n",
    "X,y = sim.genXy_bern_X_norm_beta(seed=None,n=n,p1=0,x_prob=.25,pnull=p,base_prob=.25,beta_sd=1)\n",
    "kologit = ko.knockoff_logit(y,X,.2,knockoff='binary',tol=1E-5)\n",
    "kologit._binary_knockoff()\n",
    "\n",
    "X_lrg = np.hstack((kologit.X,kologit.X_ko))\n",
    "Mhat  = np.dot(X_lrg.T,X_lrg)/n\n",
    "M      = kologit.M\n",
    "print 'Difference of M and M hat has %.3f of Ms norm' % (nplin.norm(Mhat-M)/nplin.norm(M)) # see how we do in terms of Frobenius norm\n",
    "print '%d of the variables needed relaxation' % (np.sum(kologit.por>0))"
   ]
  },
  {
   "cell_type": "code",
   "execution_count": null,
   "metadata": {
    "collapsed": false
   },
   "outputs": [],
   "source": [
    "kologit.fit()"
   ]
  },
  {
   "cell_type": "code",
   "execution_count": 80,
   "metadata": {
    "collapsed": false
   },
   "outputs": [
    {
     "data": {
      "text/plain": [
       "array([  1.,   2.,   3.,  inf])"
      ]
     },
     "execution_count": 80,
     "metadata": {},
     "output_type": "execute_result"
    }
   ],
   "source": [
    "np.append([1,2,3],np.inf)"
   ]
  },
  {
   "cell_type": "code",
   "execution_count": 81,
   "metadata": {
    "collapsed": false
   },
   "outputs": [
    {
     "data": {
      "text/plain": [
       "inf"
      ]
     },
     "execution_count": 81,
     "metadata": {},
     "output_type": "execute_result"
    }
   ],
   "source": [
    "np.amax([1,2,3,np.inf])"
   ]
  },
  {
   "cell_type": "code",
   "execution_count": null,
   "metadata": {
    "collapsed": true
   },
   "outputs": [],
   "source": []
  },
  {
   "cell_type": "code",
   "execution_count": 51,
   "metadata": {
    "collapsed": false
   },
   "outputs": [
    {
     "data": {
      "text/plain": [
       "0.07758285479830436"
      ]
     },
     "execution_count": 51,
     "metadata": {},
     "output_type": "execute_result"
    }
   ],
   "source": [
    "Ws = set(np.abs(kologit.w_value))\n",
    "min([t for t in Ws if np.sum(kologit.w_value<=-t)/max(1,np.sum(kologit.w_value>=t)) <= kologit.q])"
   ]
  },
  {
   "cell_type": "code",
   "execution_count": 52,
   "metadata": {
    "collapsed": false
   },
   "outputs": [
    {
     "data": {
      "text/plain": [
       "0.07758285479830436"
      ]
     },
     "execution_count": 52,
     "metadata": {},
     "output_type": "execute_result"
    }
   ],
   "source": [
    "min([t for t in kologit.Ws if np.sum(kologit.w_value<=-t)/max(1,np.sum(kologit.w_value>=t)) <= kologit.q])"
   ]
  },
  {
   "cell_type": "code",
   "execution_count": 65,
   "metadata": {
    "collapsed": false
   },
   "outputs": [
    {
     "data": {
      "text/plain": [
       "0"
      ]
     },
     "execution_count": 65,
     "metadata": {},
     "output_type": "execute_result"
    }
   ],
   "source": [
    "len(kologit.ts) - len(kologit.Ws)"
   ]
  },
  {
   "cell_type": "code",
   "execution_count": 64,
   "metadata": {
    "collapsed": false
   },
   "outputs": [
    {
     "data": {
      "text/plain": [
       "[0.071432994356975352, 0.074119233521779113]"
      ]
     },
     "execution_count": 64,
     "metadata": {},
     "output_type": "execute_result"
    }
   ],
   "source": [
    "[t for t in kologit.Ws if np.sum(kologit.w_value<=-t)/max(1,np.sum(kologit.w_value>=t)) <= kologit.q]"
   ]
  },
  {
   "cell_type": "markdown",
   "metadata": {},
   "source": [
    "Now, what if we generate $X$ with actual covariance using the isling model? We'll generate the A matrix as random normal with low variance."
   ]
  },
  {
   "cell_type": "code",
   "execution_count": 428,
   "metadata": {
    "collapsed": false
   },
   "outputs": [
    {
     "name": "stdout",
     "output_type": "stream",
     "text": [
      "Difference of M and M hat has 0.033 of Ms norm\n",
      "0 of the variables needed relaxation\n"
     ]
    }
   ],
   "source": [
    "n = 1000\n",
    "p = 20\n",
    "X,y = sim.genXy_binary_X_norm_beta(seed=None,n=n,p1=0,pnull=p,base_prob=.25,beta_sd=1,A_sd=.2)\n",
    "kologit = ko.knockoff_logit(y,X,knockoff='binary',tol=1E-14,maxiter=1000)\n",
    "kologit._binary_knockoff()\n",
    "\n",
    "X_lrg = np.hstack((kologit.X,kologit.X_ko))\n",
    "Mhat  = np.dot(X_lrg.T,X_lrg)/n\n",
    "M      = kologit.M\n",
    "print 'Difference of M and M hat has %.3f of Ms norm' % (nplin.norm(Mhat-M)/nplin.norm(M)) # see how we do in terms of Frobenius norm\n",
    "print '%d of the variables needed relaxation' % (np.sum(kologit.por>0)) "
   ]
  },
  {
   "cell_type": "markdown",
   "metadata": {},
   "source": [
    "This does pretty well. However, as we add more and more variables, eventually we run into numerical issues with the Newton-Raphson itterations. The solutions suggested by Schafer is to relax the covariance between the $X_i$ and $X_1,...,X_{i-1}$ until the Hessian is no longer illconditioned. In the extreme, this is always possible by making $X_i$ independent of all the prior variables."
   ]
  },
  {
   "cell_type": "code",
   "execution_count": 429,
   "metadata": {
    "collapsed": false
   },
   "outputs": [
    {
     "name": "stdout",
     "output_type": "stream",
     "text": [
      "Difference of M and M hat has 0.218 of Ms norm\n",
      "4 of the variables needed relaxation\n"
     ]
    }
   ],
   "source": [
    "n = 1000\n",
    "p = 70\n",
    "X,y = sim.genXy_binary_X_norm_beta(seed=None,n=n,p1=0,pnull=p,base_prob=.25,beta_sd=1,A_sd=.2)\n",
    "kologit = ko.knockoff_logit(y,X,knockoff='binary',tol=1E-14,maxiter=1000)\n",
    "kologit._binary_knockoff()\n",
    "\n",
    "X_lrg = np.hstack((kologit.X,kologit.X_ko))\n",
    "Mhat  = np.dot(X_lrg.T,X_lrg)/n\n",
    "M      = kologit.M\n",
    "print 'Difference of M and M hat has %.3f of Ms norm' % (nplin.norm(Mhat-M)/nplin.norm(M)) # see how we do in terms of Frobenius norm\n",
    "print '%d of the variables needed relaxation' % (np.sum(kologit.por>0))"
   ]
  },
  {
   "cell_type": "markdown",
   "metadata": {},
   "source": [
    "####How do the binary knockoffs do as compared to the originals?\n",
    "First case, p=20, all of the variables are null, binaries generated with no covariance"
   ]
  },
  {
   "cell_type": "code",
   "execution_count": 430,
   "metadata": {
    "collapsed": false
   },
   "outputs": [
    {
     "data": {
      "image/png": "[encoded data removed]",
      "text/plain": [
       "<matplotlib.figure.Figure at 0x7ff33b15c3d0>"
      ]
     },
     "metadata": {},
     "output_type": "display_data"
    }
   ],
   "source": [
    "# All null variables, sparse, seeds1\n",
    "null_sparse = sim.ko_test(procs=4,seeds=seeds1,func=sim.genXy_bern_X_norm_beta,n=1000,p1=0,pnull=20,x_prob=.25,base_prob=.25,beta_sd=1)\n",
    "null_sparse.plot_ko_rank_rate()"
   ]
  },
  {
   "cell_type": "markdown",
   "metadata": {},
   "source": [
    "Now, p=20, binaries come from isling model"
   ]
  },
  {
   "cell_type": "code",
   "execution_count": 442,
   "metadata": {
    "collapsed": false
   },
   "outputs": [
    {
     "name": "stdout",
     "output_type": "stream",
     "text": [
      "The cross momement matrix violates necessary conditions for being random Bernoulli\n"
     ]
    },
    {
     "data": {
      "image/png": "[encoded data removed]",
      "text/plain": [
       "<matplotlib.figure.Figure at 0x7ff3397f5f50>"
      ]
     },
     "metadata": {},
     "output_type": "display_data"
    }
   ],
   "source": [
    "# All null variables, sparse, seeds1\n",
    "null_sparse = sim.ko_test(procs=4,seeds=seeds1,func=sim.genXy_binary_X_norm_beta,n=1000,p1=0,pnull=20,base_prob=.25,beta_sd=1,A_base_diag=-1,A_sd=.2)\n",
    "null_sparse.plot_ko_rank_rate()"
   ]
  },
  {
   "cell_type": "code",
   "execution_count": null,
   "metadata": {
    "collapsed": true
   },
   "outputs": [],
   "source": []
  }
 ],
 "metadata": {
  "kernelspec": {
   "display_name": "Python 2",
   "language": "python",
   "name": "python2"
  },
  "language_info": {
   "codemirror_mode": {
    "name": "ipython",
    "version": 2
   },
   "file_extension": ".py",
   "mimetype": "text/x-python",
   "name": "python",
   "nbconvert_exporter": "python",
   "pygments_lexer": "ipython2",
   "version": "2.7.6"
  }
 },
 "nbformat": 4,
 "nbformat_minor": 0
}
