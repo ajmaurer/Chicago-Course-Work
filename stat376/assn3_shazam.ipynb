{
 "cells": [
  {
   "cell_type": "code",
   "execution_count": 33,
   "metadata": {
    "collapsed": false
   },
   "outputs": [],
   "source": [
    "# Imports\n",
    "import json, re, numpy as np, numpy.linalg as nplin, matplotlib.pyplot as plt, matplotlib.mlab as mlab, string, base64, os\n",
    "from __future__ import division\n",
    "from io import BytesIO\n",
    "from pydub import AudioSegment\n",
    "from scipy.ndimage.filters import maximum_filter\n",
    "%matplotlib inline\n",
    "\n",
    "# Am I working on AWS?\n",
    "AWS = False"
   ]
  },
  {
   "cell_type": "code",
   "execution_count": 3,
   "metadata": {
    "collapsed": false
   },
   "outputs": [
    {
     "name": "stdout",
     "output_type": "stream",
     "text": [
      "--2015-05-10 21:59:45--  http://s3.amazonaws.com/stat-37601/new-songs.mp3.base64.json\n",
      "Resolving s3.amazonaws.com (s3.amazonaws.com)... 54.231.17.232\n",
      "Connecting to s3.amazonaws.com (s3.amazonaws.com)|54.231.17.232|:80... connected.\n",
      "HTTP request sent, awaiting response... 200 OK\n",
      "Length: 359122957 (342M) [application/json]\n",
      "Saving to: ‘new-songs.mp3.base64.json’\n",
      "\n",
      "100%[======================================>] 359,122,957 3.47MB/s   in 1m 42s \n",
      "\n",
      "2015-05-10 22:01:26 (3.37 MB/s) - ‘new-songs.mp3.base64.json’ saved [359122957/359122957]\n",
      "\n"
     ]
    }
   ],
   "source": [
    "!wget http://s3.amazonaws.com/stat-37601/new-songs.mp3.base64.json\n",
    "!mv new-songs.mp3.base64.json data/"
   ]
  },
  {
   "cell_type": "code",
   "execution_count": 48,
   "metadata": {
    "collapsed": false
   },
   "outputs": [
    {
     "data": {
      "text/plain": [
       "5627"
      ]
     },
     "execution_count": 48,
     "metadata": {},
     "output_type": "execute_result"
    }
   ],
   "source": [
    "# Load Data\n",
    "if AWS == True:\n",
    "    songsFile = \"s3n://stat-37601/new-songs.mp3.base64.json\"\n",
    "else:\n",
    "    songsFile = \"data/new-songs.mp3.base64.json\"\n",
    "\n",
    "snipets = sc.textFile(songsFile, 100).map(json.loads).cache()\n",
    "snipets.count()"
   ]
  },
  {
   "cell_type": "code",
   "execution_count": 53,
   "metadata": {
    "collapsed": false
   },
   "outputs": [
    {
     "data": {
      "text/plain": [
       "278"
      ]
     },
     "execution_count": 53,
     "metadata": {},
     "output_type": "execute_result"
    }
   ],
   "source": [
    "# Grab a test subset of data\n",
    "snipets3 = snipets.filter(lambda x: int(x[\"song_id\"]) <= 3)\n",
    "snipets3.count()"
   ]
  },
  {
   "cell_type": "markdown",
   "metadata": {},
   "source": [
    "#### (a) process songs"
   ]
  },
  {
   "cell_type": "code",
   "execution_count": 40,
   "metadata": {
    "collapsed": false
   },
   "outputs": [],
   "source": [
    "# Helper functions, largely assembled from code given by homework/TA\n",
    "\n",
    "def to_pydub(data):\n",
    "    return AudioSegment.from_mp3(BytesIO(base64.b64decode(data)))\n",
    "\n",
    "def audio_segment_to_samples(data):\n",
    "    \"\"\"Converts wav into a numpy array\"\"\"\n",
    "    audio = to_pydub(data)\n",
    "    wave = audio.export('_', format='wav')\n",
    "    wave.seek(0)\n",
    "    return np.frombuffer(wave.read(), np.int16)[24:] / 2.**15\n",
    "\n",
    "def audio_segment_in_ipython(song_data):\n",
    "    \"\"\"Plays a wav file in python\"\"\"\n",
    "    from IPython.core.display import HTML, display\n",
    "    display(HTML(\"\"\"<audio controls=\"controls\" style=\"width:600px\" >\n",
    "        <source controls\n",
    "            src=\"data:audio/mp3;base64,{}\" type=\"audio/mp3\" />\n",
    "      </audio>\"\"\".format(song_data)))\n",
    "    \n",
    "def find_peaks(samples):\n",
    "    \"\"\"Finds peaks in sound file that are at least 20 units away from each other and greater than -150 db\"\"\"\n",
    "    ft_graph = mlab.specgram(samples, scale_by_freq=False)[0]\n",
    "    # Don’t rescale by 1/f!\n",
    "    maxes = (maximum_filter(ft_graph, size=20) == ft_graph) & (ft_graph > -150)\n",
    "    # Compute relative maxima 20 units away from others, where\n",
    "    # intensity is greater than -150 dB.\n",
    "    freqs, times = np.where(maxes)audio_segment_to_samples\n",
    "    return (freqs, times)\n",
    "\n",
    "def play_pydub(pyaudio):\n",
    "    \"\"\"Plays a pydub audio segment in ipython\"\"\"\n",
    "    pyaudio.export('tmp.mp3', format='mp3')\n",
    "    audio_segment_in_ipython(base64.b64encode(open(\"tmp.mp3\").read()))\n",
    "    os.remove('tmp.mp3')\n",
    "\n",
    "def assemble_songs(rdd):\n",
    "    \"\"\"\n",
    "    Takes snippets of songs in an rdd and assembles them back into one whole piece.\n",
    "    \n",
    "    There will be noticable loss from being converted back and forth into mp3\n",
    "    \"\"\"\n",
    "    output = rdd.map(lambda songDict: (songDict['song_id'],(songDict['time_offset'],to_py_audio(songDict['data']))))\\\n",
    "        .groupByKey()\\\n",
    "        .map(lambda (id,audio_tuples): (id, [audio for time_offset,audio in sorted(audio_tuples)]))\\\n",
    "        .map(lambda (id,audio_list)  : (id, reduce(lambda x,y: x+y, audio_list)))\n",
    "    return output"
   ]
  },
  {
   "cell_type": "code",
   "execution_count": 75,
   "metadata": {
    "collapsed": false
   },
   "outputs": [],
   "source": [
    "# Process song into \"fingerprint\" of peaks - gives arrays of peak times and frequencies\n",
    "snipets_fp = snipets.map(lambda songDict: (songDict['song_id'],songDict['time_offset'],find_peaks(audio_segment_to_samples(songDict['data'])))).cache()"
   ]
  },
  {
   "cell_type": "code",
   "execution_count": 77,
   "metadata": {
    "collapsed": false
   },
   "outputs": [],
   "source": [
    "# Calculate number of peaks by song\n",
    "songs_peaks = snipets_fp.map(lambda (sid,off,(freqs,times)): (sid,len(freqs)))\\\n",
    "    .reduceByKey(lambda x,y: x+y)\\\n",
    "    .collect()"
   ]
  },
  {
   "cell_type": "code",
   "execution_count": 83,
   "metadata": {
    "collapsed": false
   },
   "outputs": [
    {
     "name": "stdout",
     "output_type": "stream",
     "text": [
      "On average, there are 166221.47 peaks per song.\n"
     ]
    },
    {
     "data": {
      "image/png": "[encoded data removed]",
      "text/plain": [
       "<matplotlib.figure.Figure at 0x7f21266fd510>"
      ]
     },
     "metadata": {},
     "output_type": "display_data"
    }
   ],
   "source": [
    "# summarize\n",
    "song_ids, freqs = zip(*songs_peaks)    \n",
    "    \n",
    "print \"On average, there are %.2f peaks per song.\" % np.mean(freqs)\n",
    "\n",
    "plt.bar(song_ids,freqs)\n",
    "plt.title(\"Peaks By Song\")\n",
    "plt.xlabel('Song')\n",
    "plt.ylabel('Peaks')\n",
    "plt.show()"
   ]
  },
  {
   "cell_type": "markdown",
   "metadata": {},
   "source": [
    "#### (b) Hashing"
   ]
  },
  {
   "cell_type": "code",
   "execution_count": null,
   "metadata": {
    "collapsed": true
   },
   "outputs": [],
   "source": []
  }
 ],
 "metadata": {
  "kernelspec": {
   "display_name": "Python 2",
   "language": "python",
   "name": "python2"
  },
  "language_info": {
   "codemirror_mode": {
    "name": "ipython",
    "version": 2
   },
   "file_extension": ".py",
   "mimetype": "text/x-python",
   "name": "python",
   "nbconvert_exporter": "python",
   "pygments_lexer": "ipython2",
   "version": "2.7.6"
  }
 },
 "nbformat": 4,
 "nbformat_minor": 0
}
