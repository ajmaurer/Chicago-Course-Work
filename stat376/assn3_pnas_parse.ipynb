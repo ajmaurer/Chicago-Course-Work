{
 "cells": [
  {
   "cell_type": "code",
   "execution_count": 9,
   "metadata": {
    "collapsed": false
   },
   "outputs": [
    {
     "name": "stdout",
     "output_type": "stream",
     "text": [
      "<pyspark.context.SparkContext object at 0x7f5aa9123c50>\n"
     ]
    }
   ],
   "source": [
    "# Imports\n",
    "import json\n",
    "import re\n",
    "import numpy as np\n",
    "import numpy.linalg as nplin\n",
    "import matplotlib.pyplot as plt\n",
    "import string\n",
    "import operator\n",
    "from bs4 import BeautifulSoup\n",
    "from __future__ import division\n",
    "from time import time\n",
    "from operator import itemgetter\n",
    "%matplotlib inline\n",
    "\n",
    "# Am I working on AWS?\n",
    "AWS = False\n",
    "\n",
    "# Check Spark is working\n",
    "print sc "
   ]
  },
  {
   "cell_type": "code",
   "execution_count": 151,
   "metadata": {
    "collapsed": false
   },
   "outputs": [],
   "source": [
    "# load data\n",
    "if AWS:\n",
    "    rawPNAS = \"s3n://stat-37601/pnas.json\"\n",
    "else:\n",
    "    rawPNAS = \"data/pnas.json\"\n",
    "\n",
    "articles = sc.textFile(rawPNAS).map(lambda x: json.loads(x)).cache()"
   ]
  },
  {
   "cell_type": "markdown",
   "metadata": {},
   "source": [
    "####Define the parser to clean up the text"
   ]
  },
  {
   "cell_type": "code",
   "execution_count": 175,
   "metadata": {
    "collapsed": true
   },
   "outputs": [],
   "source": [
    "def parser(article):\n",
    "    sections = BeautifulSoup(article['body']).find_all([\"abs\",\"bdy\"]) # grabs the abstract and main body tags\n",
    "    paragraphs = sum([sec.find_all('p') for sec in sections],[])      # get list of paragraph tags\n",
    "    text     = ' '.join([par.text for par in paragraphs]).lower()     # get one long string\n",
    "    text     = re.sub('\\s[a-z]\\)|\\s\\([a-z]\\)|\\s[a-z]\\.',' ',text)     # get rid of lists with letters\n",
    "    text     = re.sub(\"([a-z])'([a-z])\",\"\\g<1>\\g<2>\",text)            # standardize to no apostroph\n",
    "    text     = re.sub('[^a-zA-Z0-9\\-\\s]','',text)                     # keep only alpha numeric, hyphens, and white space\n",
    "    text     = re.sub('(\\s|\\A)[0-9\\-\\s]+(\\s|\\Z)',' ',text)            # get rid of pure numbers (only want numerics for things like chemical compounds) \n",
    "    return text.split()                                               # return a list of words"
   ]
  },
  {
   "cell_type": "markdown",
   "metadata": {},
   "source": [
    "#### Look at the frequency of words accross corpus"
   ]
  },
  {
   "cell_type": "code",
   "execution_count": 180,
   "metadata": {
    "collapsed": true
   },
   "outputs": [],
   "source": [
    "# Get frequencies\n",
    "wordFreq = articles.flatMap(lambda x: parser(x))\\\n",
    "    .map(lambda x: (str(x),1))\\\n",
    "    .reduceByKey(lambda a,b: a+b)\\\n",
    "    .collect()\n",
    "    \n",
    "sortedFreq = sorted([x[1] for x in wordFreq])"
   ]
  },
  {
   "cell_type": "code",
   "execution_count": 193,
   "metadata": {
    "collapsed": false,
    "scrolled": true
   },
   "outputs": [
    {
     "data": {
      "image/png": "[encoded data removed]",
      "text/plain": [
       "<matplotlib.figure.Figure at 0x7f5a8458fb50>"
      ]
     },
     "metadata": {},
     "output_type": "display_data"
    }
   ],
   "source": [
    "# plot frequency versus rank\n",
    "rank = np.arange(len(sortedFreq),0,-1)\n",
    "\n",
    "f,subplts = plt.subplots(1,2)\n",
    "f.set_size_inches(15,5)\n",
    "subplts[0].plot(rank,sortedFreq)\n",
    "subplts[0].set_title(\"Standard Scale\")\n",
    "subplts[0].set_xlabel(\"Rank\")\n",
    "subplts[0].set_ylabel(\"Frequency\")\n",
    "subplts[1].plot(rank,sortedFreq)\n",
    "subplts[1].set_title(\"Log-Log Scale\")\n",
    "subplts[1].set_xlabel(\"Rank\")\n",
    "subplts[1].set_ylabel(\"Frequency\")\n",
    "subplts[1].set_xscale('log')\n",
    "subplts[1].set_yscale('log')"
   ]
  },
  {
   "cell_type": "markdown",
   "metadata": {},
   "source": [
    "We see that Zipf's law pretty much holds. The frequency of words seems to be approximately proportional to the inverse of its rank raised to some power. We see this from the nearly linear negative relationship on the log-log plot between frequency and rank. There relationship isn't perfect (we see small bulges and deviations from the linear fit), but it is reasonably close."
   ]
  },
  {
   "cell_type": "markdown",
   "metadata": {},
   "source": [
    "####Get our vocabulary\n",
    "I exclude the given stop words, some of which were chosen based on appearing in most articles at least once, and then exclude words which don't appear in at least 25 articles."
   ]
  },
  {
   "cell_type": "code",
   "execution_count": 177,
   "metadata": {
    "collapsed": false
   },
   "outputs": [
    {
     "name": "stdout",
     "output_type": "stream",
     "text": [
      "word list includes 25243 unique words\n"
     ]
    }
   ],
   "source": [
    "# List a bunch of commonly used words which we'd like to ignore apriori. A bunch of these were  gotten by looking at words common accross all articles\n",
    "stop = set(['the', 'and', 'you', 'your', 'for', 'por', 'que', 'las', 'los', 'les',\\\n",
    "       'una', 'del', 'este', 'usted', 'para', 'con', 'this', 'that', 'was', 'have', 'like',\\\n",
    "       'would', 'could', 'should', 'will', 'can', 'shall', 'just', 'all', 'it', 'its', 'per'])\n",
    "eng_stop = set(['i', 'me', 'my', 'myself', 'we', 'our', \\\n",
    "             'ours', 'ourselves', 'you', 'your', 'yours', \\\n",
    "             'yourself', 'yourselves', 'he', 'him', 'his', 'himself', 'she', 'her', 'hers', 'herself', \\\n",
    "             'it', 'its', 'itself', 'they', 'them', 'their', 'theirs', \\\n",
    "             'themselves', 'what', 'which', 'who', 'whom', 'this', \\\n",
    "             'that', 'these', 'those', 'am', 'is', 'are', 'was', 'were', \\\n",
    "             'be', 'been', 'being', 'have', 'has', 'had', 'having', 'do',\\\n",
    "             'does', 'did', 'doing', 'a', 'an', 'the', 'and', 'but', \\\n",
    "             'if', 'or', 'because', 'as', 'until', 'while', 'of', 'at',\\\n",
    "             'by', 'for', 'with', 'about', 'against', 'between', 'into', \\\n",
    "             'through', 'during', 'before', 'after', \\\n",
    "            'above', 'below', 'to', 'from', 'up', 'down', 'in',\\\n",
    "            'out', 'on', 'off', 'over', 'under', 'again', 'further', \\\n",
    "            'then', 'once', 'here', 'there', 'when', 'where', 'why', \\\n",
    "            'how', 'all', 'any', 'both', 'each', 'few', 'more', 'most',\\\n",
    "            'other', 'some', 'such', 'no', 'nor', 'not', 'only', 'own', \\\n",
    "            'same', 'so', 'than', 'too', 'very', 's', 't', 'can', 'will', \\\n",
    "            'just', 'don', 'should', 'now','addition', 'also', 'although', \\\n",
    "            'different','either','fig','first','found','however','may',\\\n",
    "            'one','three','thus','two','used','using','well','whereas','whether',\\\n",
    "            'within','therefore'])\n",
    "letters = set(string.ascii_lowercase)\n",
    "roman_num = set(['ii','iii','iv','v','vi','vii','viii','ix','x'])\n",
    "all_stop = stop | eng_stop | letters | roman_num\n",
    "\n",
    "# get our word list\n",
    "thresh = 25           # exclude words which appear in fewer articles than this - don't want list to be too long\n",
    "vocabulary = articles.flatMap(lambda x: list(set(parser(x))))\\\n",
    "    .map(lambda x: (str(x),1))\\\n",
    "    .reduceByKey(lambda a,b: a+b)\\\n",
    "    .filter(lambda x: x[1]>=thresh and not x[1] in all_stop)\\\n",
    "    .collect()\n",
    "print 'word list includes %d unique words' % len(vocabulary)"
   ]
  },
  {
   "cell_type": "code",
   "execution_count": 179,
   "metadata": {
    "collapsed": false
   },
   "outputs": [],
   "source": [
    "# Write the vocabulary to a file\n",
    "f = open('pnasvocab.txt', 'w')\n",
    "for w,c in sorted(vocabulary):\n",
    "    f.write(\"%s\\n\" % w)\n",
    "f.close()"
   ]
  }
 ],
 "metadata": {
  "kernelspec": {
   "display_name": "Python 2",
   "language": "python",
   "name": "python2"
  },
  "language_info": {
   "codemirror_mode": {
    "name": "ipython",
    "version": 2
   },
   "file_extension": ".py",
   "mimetype": "text/x-python",
   "name": "python",
   "nbconvert_exporter": "python",
   "pygments_lexer": "ipython2",
   "version": "2.7.6"
  }
 },
 "nbformat": 4,
 "nbformat_minor": 0
}
