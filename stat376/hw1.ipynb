{
 "metadata": {
  "name": ""
 },
 "nbformat": 3,
 "nbformat_minor": 0,
 "worksheets": [
  {
   "cells": [
    {
     "cell_type": "code",
     "collapsed": false,
     "input": [
      "# Initialization \n",
      "import re\n",
      "import json \n",
      "import numpy as np\n",
      "import matplotlib as mp\n",
      "from collections import namedtuple \n",
      "\n",
      "# Check Spark is working\n",
      "sc \n",
      "\n",
      "def jsonStream(fname):\n",
      "    with open(fname) as f:\n",
      "        for line in f:\n",
      "            yield json.loads(line)"
     ],
     "language": "python",
     "metadata": {},
     "outputs": [],
     "prompt_number": 3
    },
    {
     "cell_type": "heading",
     "level": 3,
     "metadata": {},
     "source": [
      "4. I am parsing all the speeches into sentances and then comparing the length and words per sentance"
     ]
    },
    {
     "cell_type": "code",
     "collapsed": false,
     "input": [
      "speeches_path = \"data/speeches.json\"\n",
      "speeches = sc.textFile(speeches_path)\n",
      "speeches.cache()"
     ],
     "language": "python",
     "metadata": {},
     "outputs": [
      {
       "metadata": {},
       "output_type": "pyout",
       "prompt_number": 4,
       "text": [
        "data/speeches.json MapPartitionsRDD[1] at textFile at NativeMethodAccessorImpl.java:-2"
       ]
      }
     ],
     "prompt_number": 4
    },
    {
     "cell_type": "heading",
     "level": 4,
     "metadata": {},
     "source": [
      "(a) Parse into sentances"
     ]
    },
    {
     "cell_type": "markdown",
     "metadata": {},
     "source": [
      "I think the regular expressions do a pretty good job of cleaning up the text and finding the end of sentances. There are only a few issues I noticed still remaing:\n",
      "-Middle initials\n",
      "-Sometimes the first word of the next sentance isn't capitalized (as I show below it makes a very small difference)"
     ]
    },
    {
     "cell_type": "code",
     "collapsed": false,
     "input": [
      "stats = speeches.map(lambda sp: json.loads(sp)) \\\n",
      "    .map(lambda sp: re.sub('(?<!Mr|Ms)(?<!Mrs)(?<!Miss)([.?!])\\s+([A-Z])','\\g<1>__B__\\g<2>',re.sub('\\s+',' ',sp['text'])).split('__B__'))\\\n",
      "    .reduce(lambda lst1,lst2: lst1+lst2)\n",
      "\n",
      "for l in range(1,10000,477):\n",
      "    print stats[l]\n",
      "    print \" \"\n",
      "    "
     ],
     "language": "python",
     "metadata": {},
     "outputs": [
      {
       "output_type": "stream",
       "stream": "stdout",
       "text": [
        "In the execution of those laws and of the powers vested by the Constitution in the Executive, unremitted attention has been paid to the great objects to which they extend.\n",
        " \n",
        "A little more than three years after this organization the Commission effected an agreement with the Choctaw Nation alone.\n",
        " \n",
        "THE NEGRO Numbered among our population are some 12,000,000 colored people.\n",
        " \n",
        "The affairs of the postal service show marked and gratifying improvement during the past year.\n",
        " \n",
        "In the old days the highway of commerce, whether by water or by a road on land, was open to all; it belonged to the public and the traffic along it was free.\n",
        " \n",
        "The action of the Congress in providing the commission with its own force instead of requiring it to rely on detailed clerks has been justified by the increased work done at a smaller cost to the Government.\n",
        " \n",
        "Hence we do not look behind existing governments capable of maintaining their own authority.\n",
        " \n",
        "That the majority should govern is a general principle controverted by none, but they must govern according to the Constitution, and not according to an undefined and unrestrained discretion, whereby they may oppress the minority.\n",
        " \n",
        "But for the overwhelming majority of our working people, the past year has meant good jobs.\n",
        " \n",
        "These were not presented as new rules of international law, having been generally claimed by neutrals, though not always admitted by belligerents.\n",
        " \n",
        "Were those States afterwards expelled from the Union by the war?\n",
        " \n",
        "And we should be very jealous of this distinction which we have sought to earn. just now we should be particularly jealous of it because it is our dearest present hope that this character and reputation may presently, in God's providence, bring us an opportunity such as has seldom been vouchsafed any nation, the opportunity to counsel and obtain peace in the world and reconciliation and a healing settlement of many a matter that has cooled and interrupted the friendship of nations.\n",
        " \n",
        "To this process the country is indebted for the clause prohibiting Congress from passing any law respecting an establishment of religion or abridging the freedom of speech or of the press or of the right of petition.\n",
        " \n",
        "Careful and prudent men very often become involved in debt in the transaction of their business, and though they may possess ample property, if it could be made available for that purpose, to meet all their liabilities, yet, on account of the extraordinary scarcity of money, they may be unable to meet all their pecuniary obligations as they become due, in consequence of which they are liable to be prostrated in their business by proceedings in bankruptcy at the instance of unrelenting creditors.\n",
        " \n",
        "We're working through the G-20 to sustain a lasting global recovery.\n",
        " \n",
        "These practices have enabled us to get some of the evidence indispensable in order to secure the conviction of the wealthiest and most formidable criminals with whom the Government has to deal, both those operating in violation of the anti-trust law and others.\n",
        " \n",
        "The principle of the eight-hour day should as rapidly and as far as practicable be extended to the entire work carried on by the Government; and the present law should be amended to embrace contracts on those public works which the present wording of the act has been construed to exclude.\n",
        " \n",
        "Chances for improper favoritism can be minimized by a properly formed board; such as the board of last June, which did such conscientious and excellent work in elimination.\n",
        " \n",
        "In 1869 a concession was granted by the French Government to a company which proposed to lay a cable from the shores of France to the United States.\n",
        " \n",
        "The Secretary of the Treasury might use such notes taken from a surplus revenue to buy gold in the market.\n",
        " \n",
        "They can scarcely have failed to perceive that the effort for disunion produces the existing difficulty, and that one strong nation promises more durable peace and a more extensive, valuable, and reliable commerce than can the same nation broken into hostile fragments.\n",
        " \n"
       ]
      }
     ],
     "prompt_number": 159
    },
    {
     "cell_type": "code",
     "collapsed": false,
     "input": [
      "SotU = namedtuple('SotU',['Year','President','Sentances','WordsPerSentance'])\n",
      "\n",
      "stats = speeches.map(lambda sp: json.loads(sp)) \\\n",
      "    .map(lambda sp: [int(sp['year']),str(sp['president']),len(re.split('\\s+',sp['text'])),len(re.sub('(?<!Mr|Ms)(?<!Mrs)(?<!Miss)[.?!]\\s+([A-Z])','__B__\\g<1>',sp['text']).split('__B__'))])\\\n",
      "    .map(lambda tpl: [SotU(tpl[0],tpl[1],tpl[3],tpl[2]/float(tpl[3]))])\\\n",
      "    .reduce(lambda tpl1, tpl2: tpl1+tpl2)\n",
      "   \n"
     ],
     "language": "python",
     "metadata": {},
     "outputs": [],
     "prompt_number": 19
    },
    {
     "cell_type": "code",
     "collapsed": false,
     "input": [
      "length = len(stats)\n",
      "print \"RANKED BY WORDS PER SENTANCE\"\n",
      "wps_sort_stats = sorted(stats, key=lambda SotU: SotU.WordsPerSentance)\n",
      "for i in (range(0,10)+range(length-10,length)):\n",
      "    print \"%d: %s, %s, Words Per Sentance - %.2f\" % (i, wps_sort_stats[i].Year, wps_sort_stats[i].President, wps_sort_stats[i].WordsPerSentance)\n",
      "\n",
      "print \"\"    \n",
      "print \"RANKED BY NUMBER OF SENTANCES\"\n",
      "wps_sort_stats = sorted(stats, key=lambda SotU: SotU.Sentances)\n",
      "for i in (range(0,10)+range(length-10,length)):\n",
      "    print \"%d: %s, %s, Words Per Sentance - %d\" % (i, wps_sort_stats[i].Year, wps_sort_stats[i].President, wps_sort_stats[i].Sentances)"
     ],
     "language": "python",
     "metadata": {},
     "outputs": [
      {
       "output_type": "stream",
       "stream": "stdout",
       "text": [
        "RANKED BY WORDS PER SENTANCE\n",
        "0: 2001, George W. Bush, Words Per Sentance - 16.21\n",
        "1: 1992, George Bush, Words Per Sentance - 16.40\n",
        "2: 1951, Harry S Truman, Words Per Sentance - 16.45\n",
        "3: 2013, Barack Obama, Words Per Sentance - 16.70\n",
        "4: 2012, Barack Obama, Words Per Sentance - 17.04\n",
        "5: 1984, Ronald Reagan, Words Per Sentance - 17.29\n",
        "6: 1965, Lyndon B. Johnson, Words Per Sentance - 17.42\n",
        "7: 1989, George Bush, Words Per Sentance - 17.60\n",
        "8: 1991, George Bush, Words Per Sentance - 17.72\n",
        "9: 2010, Barack Obama, Words Per Sentance - 17.74\n",
        "216: 1804, Thomas Jefferson, Words Per Sentance - 43.75\n",
        "217: 1809, James Madison, Words Per Sentance - 44.68\n",
        "218: 1826, John Quincy Adams, Words Per Sentance - 44.83\n",
        "219: 1835, Andrew Jackson, Words Per Sentance - 44.94\n",
        "220: 1816, James Madison, Words Per Sentance - 46.10\n",
        "221: 1813, James Madison, Words Per Sentance - 46.54\n",
        "222: 1803, Thomas Jefferson, Words Per Sentance - 47.31\n",
        "223: 1811, James Madison, Words Per Sentance - 48.38\n",
        "224: 1840, Martin Van Buren, Words Per Sentance - 49.08\n",
        "225: 1815, James Madison, Words Per Sentance - 52.45\n",
        "\n",
        "RANKED BY NUMBER OF SENTANCES\n",
        "0: 1799, John Adams, Words Per Sentance - 37\n",
        "1: 1790, George Washington, Words Per Sentance - 40\n",
        "2: 1800, John Adams, Words Per Sentance - 40\n",
        "3: 1809, James Madison, Words Per Sentance - 41\n",
        "4: 1811, James Madison, Words Per Sentance - 47\n",
        "5: 1803, Thomas Jefferson, Words Per Sentance - 48\n",
        "6: 1804, Thomas Jefferson, Words Per Sentance - 48\n",
        "7: 1814, James Madison, Words Per Sentance - 51\n",
        "8: 1795, George Washington, Words Per Sentance - 52\n",
        "9: 1916, Woodrow Wilson, Words Per Sentance - 53\n",
        "216: 1906, Theodore Roosevelt, Words Per Sentance - 651\n",
        "217: 1901, Theodore Roosevelt, Words Per Sentance - 678\n",
        "218: 1899, William McKinley, Words Per Sentance - 691\n",
        "219: 1911, William Howard Taft, Words Per Sentance - 704\n",
        "220: 1912, William Howard Taft, Words Per Sentance - 743\n",
        "221: 1905, Theodore Roosevelt, Words Per Sentance - 797\n",
        "222: 1910, William Howard Taft, Words Per Sentance - 833\n",
        "223: 1907, Theodore Roosevelt, Words Per Sentance - 858\n",
        "224: 1946, Harry S Truman, Words Per Sentance - 1176\n",
        "225: 1981, Jimmy Carter, Words Per Sentance - 1301\n"
       ]
      }
     ],
     "prompt_number": 20
    },
    {
     "cell_type": "code",
     "collapsed": false,
     "input": [],
     "language": "python",
     "metadata": {},
     "outputs": []
    }
   ],
   "metadata": {}
  }
 ]
}