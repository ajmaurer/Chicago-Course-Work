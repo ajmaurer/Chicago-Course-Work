{
 "metadata": {
  "name": ""
 },
 "nbformat": 3,
 "nbformat_minor": 0,
 "worksheets": [
  {
   "cells": [
    {
     "cell_type": "code",
     "collapsed": false,
     "input": [
      "# Initialization\n",
      "from math import * \n",
      "import re\n",
      "import json \n",
      "import numpy as np\n",
      "import matplotlib as mp\n",
      "import random as rand\n",
      "import matplotlib.pyplot as plt\n",
      "from collections import namedtuple \n",
      "\n",
      "# Check Spark is working\n",
      "print sc \n",
      "\n",
      "def jsonStream(fname):\n",
      "    with open(fname) as f:\n",
      "        for line in f:\n",
      "            yield json.loads(line)"
     ],
     "language": "python",
     "metadata": {},
     "outputs": [
      {
       "output_type": "stream",
       "stream": "stdout",
       "text": [
        "<pyspark.context.SparkContext object at 0x7f03d7ecf950>\n"
       ]
      }
     ],
     "prompt_number": 47
    },
    {
     "cell_type": "code",
     "collapsed": false,
     "input": [
      "%matplotlib inline"
     ],
     "language": "python",
     "metadata": {},
     "outputs": [],
     "prompt_number": 2
    },
    {
     "cell_type": "heading",
     "level": 3,
     "metadata": {},
     "source": [
      "4. I am parsing all the speeches into sentances and then comparing the length and words per sentance"
     ]
    },
    {
     "cell_type": "heading",
     "level": 4,
     "metadata": {},
     "source": [
      "(a) Parse into sentances"
     ]
    },
    {
     "cell_type": "raw",
     "metadata": {},
     "source": [
      "I think the regular expressions do a pretty good job of cleaning up the text and finding the end of sentances. In general, it picks out blank spaces between an end of sentance punctutation and a capital letter as the end of a sentance. It also has conditions to deal with\n",
      "-Mr, Mrs, Ms, Miss, St, Dr, Esq, Gen, Hon, Col\n",
      "-Capital singeltons (which are middle initials) besides I (which could actually end a sentance)\n",
      "-The end of an acronym seperated by periods\n",
      "-Enumeration (which isn't really a sentance in itself)\n",
      "-Lists in capital letters\n",
      "-The president's signature at the end\n",
      "\n",
      "There are only a few issues I noticed still remaing:\n",
      "-Sometimes the first word of the next sentance isn't capitalized (only makes a small difference)"
     ]
    },
    {
     "cell_type": "code",
     "collapsed": false,
     "input": [
      "speeches_path = \"data/speeches.json\"\n",
      "enumer = ['First','Second','Third','Fourth','Fifth','Sixth','Seventh','Eight','Ninth']\n",
      "titles = ['Mr|Ms|St|Dr','Mrs|Esq|Col|Gen|Hon','Miss']\n",
      "end_sen_re = ''.join(['(?<!'+x+')' for x in enumer])+''.join(['(?<!'+x+'ly)' for x in enumer])+''.join(['(?<!'+x+')' for x in titles])+'(?<![A-Z ]{2})(?<!.[A-Z]|\\s[A-HJ-Z])([.?!]\"?)\\s+([A-Z])'\n",
      "sentance_list = sc.textFile(speeches_path)\\\n",
      "    .map(lambda sp: json.loads(sp)) \\\n",
      "    .map(lambda sp: (int(sp['year']),sp['president'],re.sub('\\s+',' ',re.sub(sp['president'][0].upper()+'[A-Z .]*'+sp['president'].upper().split()[-1]+'.','',sp['text']))))\\\n",
      "    .flatMap(lambda sp: [((sp[0],sp[1]), x) for x in re.sub(end_sen_re,'\\g<1>__B__\\g<2>',sp[2]).split('__B__')])\\\n",
      "    .cache()\n",
      "    \n",
      "sentance_list.take(5)"
     ],
     "language": "python",
     "metadata": {},
     "outputs": [
      {
       "metadata": {},
       "output_type": "pyout",
       "prompt_number": 98,
       "text": [
        "[((1821, u'James Monroe'),\n",
        "  u' Fellow-Citizens of the Senate and House of Representatives: The progress of our affairs since the last session has been such as may justly be claimed and expected under a Government deriving all its powers from an enlightened people, and under laws formed by their representatives, on great consideration, for the sole purpose of promoting the welfare and happiness of their constituents.'),\n",
        " ((1821, u'James Monroe'),\n",
        "  u'In the execution of those laws and of the powers vested by the Constitution in the Executive, unremitted attention has been paid to the great objects to which they extend.'),\n",
        " ((1821, u'James Monroe'),\n",
        "  u'In the concerns which are exclusively internal there is good cause to be satisfied with the result.'),\n",
        " ((1821, u'James Monroe'),\n",
        "  u'The laws have had their due operation and effect.'),\n",
        " ((1821, u'James Monroe'),\n",
        "  u'In those relating to foreign powers, I am happy to state that peace and amity are preserved with all by a strict observance on both sides of the rights of each.')]"
       ]
      }
     ],
     "prompt_number": 98
    },
    {
     "cell_type": "heading",
     "level": 4,
     "metadata": {},
     "source": [
      "(b) Compute number of sentances & words per sentance, then regress and plot"
     ]
    },
    {
     "cell_type": "code",
     "collapsed": false,
     "input": [
      "SotU = namedtuple('SotU',['Year','President','Words','Sentances'])\n",
      "   \n",
      "stats = sentance_list.map(lambda l: (l[0],(len(l[1].split()),1)))\\\n",
      "    .reduceByKey(lambda tpl1, tpl2: (tpl1[0]+tpl2[0],tpl1[1]+tpl2[1]))\\\n",
      "    .map(lambda tpl: [SotU(tpl[0][0],str(tpl[0][1]),tpl[1][0],tpl[1][1])]) \\\n",
      "    .reduce(lambda x,y: x+y)\n",
      "    \n",
      "stats[1:10]"
     ],
     "language": "python",
     "metadata": {},
     "outputs": [
      {
       "metadata": {},
       "output_type": "pyout",
       "prompt_number": 36,
       "text": [
        "[SotU(Year=1931, President='Herbert Hoover', Words=5688, Sentances=252),\n",
        " SotU(Year=1943, President='Franklin D. Roosevelt', Words=4561, Sentances=198),\n",
        " SotU(Year=2006, President='George W. Bush', Words=5305, Sentances=274),\n",
        " SotU(Year=1952, President='Harry S Truman', Words=5343, Sentances=292),\n",
        " SotU(Year=1848, President='James K. Polk', Words=21291, Sentances=587),\n",
        " SotU(Year=1976, President='Gerald R. Ford', Words=4952, Sentances=269),\n",
        " SotU(Year=1956, President='Dwight D. Eisenhower', Words=8262, Sentances=379),\n",
        " SotU(Year=1873, President='Ulysses S. Grant', Words=10025, Sentances=289),\n",
        " SotU(Year=1836, President='Andrew Jackson', Words=12371, Sentances=295)]"
       ]
      }
     ],
     "prompt_number": 36
    },
    {
     "cell_type": "code",
     "collapsed": false,
     "input": [
      "length = len(stats)\n",
      "places = 5\n",
      "print \"\"    \n",
      "print \"RANKED BY NUMBER OF Words\"\n",
      "wor_sort_stats = sorted(stats, key=lambda SotU: SotU.Words)\n",
      "for i in (range(0,places)+range(length-places,length)):\n",
      "    print \"%d: %s, %s, Words Per Sentance - %d\" % (i+1, wor_sort_stats[i].Year, wor_sort_stats[i].President, wor_sort_stats[i].Words)\n",
      "\n",
      "print \"\"  \n",
      "print \"RANKED BY Number of Sentances\"\n",
      "sen_sort_stats = sorted(stats, key=lambda SotU: SotU.Sentances)\n",
      "for i in (range(0,places)+range(length-places,length)):\n",
      "    print \"%d: %s, %s, Words Per Sentance - %d\" % (i+1, sen_sort_stats[i].Year, sen_sort_stats[i].President, sen_sort_stats[i].Sentances)\n",
      "\n",
      "print \"\"    \n",
      "print \"RANKED BY WORDS PER SENTANCE\"\n",
      "wps_sort_stats = sorted(stats, key=lambda SotU: SotU.Words/float(SotU.Sentances))\n",
      "for i in (range(0,places)+range(length-places,length)):\n",
      "    print \"%d: %s, %s, Words Per Sentance - %.2f\" % (i+1, wps_sort_stats[i].Year, wps_sort_stats[i].President, wps_sort_stats[i].Words/float(wps_sort_stats[i].Sentances))\n"
     ],
     "language": "python",
     "metadata": {},
     "outputs": [
      {
       "output_type": "stream",
       "stream": "stdout",
       "text": [
        "\n",
        "RANKED BY NUMBER OF Words\n",
        "1: 1800, John Adams, Words Per Sentance - 1372\n",
        "2: 1790, George Washington, Words Per Sentance - 1403\n",
        "3: 1799, John Adams, Words Per Sentance - 1507\n",
        "4: 1973, Richard M. Nixon, Words Per Sentance - 1657\n",
        "5: 1809, James Madison, Words Per Sentance - 1830\n",
        "222: 1912, William Howard Taft, Words Per Sentance - 25176\n",
        "223: 1907, Theodore Roosevelt, Words Per Sentance - 27380\n",
        "224: 1910, William Howard Taft, Words Per Sentance - 27641\n",
        "225: 1946, Harry S Truman, Words Per Sentance - 27773\n",
        "226: 1981, Jimmy Carter, Words Per Sentance - 33798\n",
        "\n",
        "RANKED BY Number of Sentances\n",
        "1: 1799, John Adams, Words Per Sentance - 37\n",
        "2: 1790, George Washington, Words Per Sentance - 40\n",
        "3: 1800, John Adams, Words Per Sentance - 40\n",
        "4: 1809, James Madison, Words Per Sentance - 41\n",
        "5: 1811, James Madison, Words Per Sentance - 47\n",
        "222: 1905, Theodore Roosevelt, Words Per Sentance - 797\n",
        "223: 1910, William Howard Taft, Words Per Sentance - 833\n",
        "224: 1907, Theodore Roosevelt, Words Per Sentance - 858\n",
        "225: 1946, Harry S Truman, Words Per Sentance - 1176\n",
        "226: 1981, Jimmy Carter, Words Per Sentance - 1301\n",
        "\n",
        "RANKED BY WORDS PER SENTANCE\n",
        "1: 2001, George W. Bush, Words Per Sentance - 16.21\n",
        "2: 1992, George Bush, Words Per Sentance - 16.39\n",
        "3: 1951, Harry S Truman, Words Per Sentance - 16.44\n",
        "4: 2013, Barack Obama, Words Per Sentance - 16.70\n",
        "5: 2012, Barack Obama, Words Per Sentance - 17.04\n",
        "222: 1813, James Madison, Words Per Sentance - 46.51\n",
        "223: 1803, Thomas Jefferson, Words Per Sentance - 47.27\n",
        "224: 1811, James Madison, Words Per Sentance - 48.34\n",
        "225: 1840, Martin Van Buren, Words Per Sentance - 49.07\n",
        "226: 1815, James Madison, Words Per Sentance - 52.42\n"
       ]
      }
     ],
     "prompt_number": 37
    },
    {
     "cell_type": "raw",
     "metadata": {},
     "source": [
      "Plot and regress."
     ]
    },
    {
     "cell_type": "code",
     "collapsed": false,
     "input": [
      "X = np.array([[1,SotU.Year] for SotU in stats])\n",
      "U, s, V = np.linalg.svd(X, full_matrices=False)\n",
      "VSinvUt = np.dot(np.dot(V,np.diag(s**-1)),U.T)\n",
      "\n",
      "sen = np.array([SotU.Sentances for SotU in stats])\n",
      "wps = np.array([SotU.Words/float(SotU.Sentances) for SotU in stats])   \n",
      "Bsen = np.dot(VSinvUt,sen)\n",
      "Bwps = np.dot(VSinvUt,wps)\n",
      "sen_pred = np.dot(X,Bsen)\n",
      "wps_pred = np.dot(X,Bwps)\n",
      "\n",
      "plt.plot(X[:,1],sen_pred,'-',X[:,1],sen,'.')\n",
      "plt.title('Sentances per Speech');\n",
      "plt.show()\n",
      "\n",
      "plt.plot(X[:,1],wps_pred,'-',X[:,1],wps,'.')\n",
      "plt.title('Words per Sentance');\n",
      "plt.show()"
     ],
     "language": "python",
     "metadata": {},
     "outputs": [
      {
       "metadata": {},
       "output_type": "display_data",
       "png": "[encoded data removed]",
       "text": [
        "<matplotlib.figure.Figure at 0x7fdde019c510>"
       ]
      },
      {
       "metadata": {},
       "output_type": "display_data",
       "png": "[encoded data removed]",
       "text": [
        "<matplotlib.figure.Figure at 0x7fdde0238c10>"
       ]
      }
     ],
     "prompt_number": 109
    },
    {
     "cell_type": "raw",
     "metadata": {},
     "source": [
      "We seem to have a pretty consistent downwards trend in average sentance length. This corresponds to the sentances getting simpler and more concise over time.\n",
      "\n",
      "For sentances per speech though, we have a much more varied trend. The speeches are consistently short until the 1810s, when they begin to grow longer and longer. Then, abruptly near the start of 1900s they get much shorter. While they generally grow over time, except for a few outliers they have far fewer sentances than before the early 1900s. This growth over time likely corresponds to the total number of words in the speech remaing relatively static after 1900, but the number of sentances growing as the length of the sentances decrease."
     ]
    },
    {
     "cell_type": "heading",
     "level": 4,
     "metadata": {},
     "source": [
      "(c) Broken stick regression on words per speech"
     ]
    },
    {
     "cell_type": "code",
     "collapsed": false,
     "input": [
      "X,wor,B,pred={},{},{},{}\n",
      "for yr in [1790,1913]:\n",
      "    if yr == 1790:\n",
      "        # I had an astoundingly weird issue where if I did [1,SotU.Year], SVD wouldn't work\n",
      "        # When I would try to reconstruct the matrix with U*diag(s)*V.T, the year would be negative instead of positve\n",
      "        X[yr]   = np.array([[SotU.Year,1] for SotU in stats if SotU.Year<=1912])\n",
      "        wor[yr] = np.array([   SotU.Words for SotU in stats if SotU.Year<=1912])\n",
      "    else:\n",
      "        X[yr]   = np.array([[1,SotU.Year] for SotU in stats if SotU.Year> 1912])\n",
      "        wor[yr] = np.array([   SotU.Words for SotU in stats if SotU.Year> 1912])\n",
      "    U, s, V = np.linalg.svd(X[yr], full_matrices=False)\n",
      "    B[yr] = np.dot(np.dot(np.dot(V,np.diag(s**-1)),U.T),wor[yr])\n",
      "    pred[yr] = np.dot(X[yr],B[yr])\n",
      "\n",
      "plt.plot(X[1790][:,0],pred[1790],'-',X[1913][:,1],pred[1913],'-',X[1790][:,0],wor[1790],'.',X[1913][:,1],wor[1913],'.')\n",
      "plt.title('Words per Speech');\n",
      "plt.show()\n"
     ],
     "language": "python",
     "metadata": {},
     "outputs": [
      {
       "metadata": {},
       "output_type": "display_data",
       "png": "[encoded data removed]",
       "text": [
        "<matplotlib.figure.Figure at 0x7fdde0247e10>"
       ]
      }
     ],
     "prompt_number": 150
    },
    {
     "cell_type": "raw",
     "metadata": {},
     "source": [
      "Reading the history of the State of the Union, the speech was only read in person by the president from 1790-1801, and again from 1913 onwards (usually). This explains the clear difference in trend before 1913 and after 1913; the speech got and stayed shorter because the president writting it actually had to read it. It also explains why the length up through 1801 stayed consistently short. Its interesting to note that Jimmy Carter's 1981 State of the Union, which is a massive outlier in terms of length, was the last State of the Union to not be read in person."
     ]
    },
    {
     "cell_type": "heading",
     "level": 4,
     "metadata": {},
     "source": [
      "(d) Ranking presidents by words per sentance accross their speaches."
     ]
    },
    {
     "cell_type": "code",
     "collapsed": false,
     "input": [
      "Pres = namedtuple('Pres',['President','WPS'])\n",
      "\n",
      "president_stats = sentance_list.map(lambda l: (l[0][1],(len(l[1].split()),1)))\\\n",
      "    .reduceByKey(lambda tpl1, tpl2: (tpl1[0]+tpl2[0],tpl1[1]+tpl2[1]))\\\n",
      "    .map(lambda tpl: [Pres(str(tpl[0]),tpl[1][0]/float(tpl[1][1]))]) \\\n",
      "    .reduce(lambda x,y: x+y)\n",
      "\n",
      "president_stats_wps_sort = sorted(president_stats, key=lambda l: l.WPS)\n",
      "for per in [0,.25,.5,.75,.99]:\n",
      "    i = int(ceil(per*len(president_stats_wps_sort)+.00000001))\n",
      "    print (\"%d: Percentile - %.2f, President - %s, Words Per Sentance - %.1f\") % (i, per, president_stats_wps_sort[i-1].President, president_stats_wps_sort[i-1].WPS)\n",
      "    "
     ],
     "language": "python",
     "metadata": {},
     "outputs": [
      {
       "output_type": "stream",
       "stream": "stdout",
       "text": [
        "1: Percentile - 0.00, President - George Bush, Words Per Sentance - 17.6\n",
        "11: Percentile - 0.25, President - Jimmy Carter, Words Per Sentance - 24.1\n",
        "21: Percentile - 0.50, President - Benjamin Harrison, Words Per Sentance - 32.4\n",
        "31: Percentile - 0.75, President - Zachary Taylor, Words Per Sentance - 36.8\n",
        "41: Percentile - 0.99, President - James Madison, Words Per Sentance - 44.2\n"
       ]
      }
     ],
     "prompt_number": 65
    },
    {
     "cell_type": "raw",
     "metadata": {},
     "source": [
      "George Bush had the shortest sentances on average, James Madison the longest. The percentiles are given above."
     ]
    },
    {
     "cell_type": "code",
     "collapsed": false,
     "input": [
      "def shorterSentance(sen1,sen2):\n",
      "    if len(sen1.split())<len(sen2.split()):\n",
      "        out = sen1\n",
      "    else:\n",
      "        out = sen2\n",
      "    return out\n",
      "def longerSentance(sen1,sen2):\n",
      "    if len(sen1.split())>len(sen2.split()):\n",
      "        out = sen1\n",
      "    else:\n",
      "        out = sen2\n",
      "    return out\n",
      "\n",
      "extreme_sen = sentance_list.map(lambda l: (l[0][1],(l[1],l[1])))\\\n",
      "    .reduceByKey(lambda x,y: (shorterSentance(x[0],y[0]),longerSentance(x[1],y[1])))\\\n",
      "    .map(lambda x: [(x[0],len(x[1][0].split()),x[1][0],len(x[1][1].split()),x[1][1])])\\\n",
      "    .reduce(lambda x,y: x+y)\n",
      "    \n",
      "print \"Five Shortest Sentances\"\n",
      "for i_, pres in enumerate(sorted(extreme_sen, key= lambda s: s[1], reverse=False)[0:20],start=1):\n",
      "    print '%d. %s - %d words: %s' % (i_,pres[0],pres[1],pres[2])\n",
      "print \"\"\n",
      "print \"Five Longest Sentances\"\n",
      "for i_, pres in enumerate(sorted(extreme_sen, key= lambda s: s[3], reverse=True)[0:5],start=1):\n",
      "    print '%d.%s - %d words: %s' % (i_,pres[0],pres[3],pres[4])\n",
      "    print\"\"\n",
      "print \"\""
     ],
     "language": "python",
     "metadata": {},
     "outputs": [
      {
       "output_type": "stream",
       "stream": "stdout",
       "text": [
        "Five Shortest Sentances\n",
        "1. Calvin Coolidge - 1 words: Constitution.\n",
        "2. Gerald R. Ford - 1 words: Amen.\n",
        "3. William J. Clinton - 1 words: Tom.\n",
        "4. George W. Bush - 1 words: Welcome.\n",
        "5. Barack Obama - 1 words: Absolutely.\n",
        "6. Franklin D. Roosevelt - 1 words: Abdicated?\n",
        "7. Ronald Reagan - 1 words: The.\n",
        "8. George Bush - 2 words: Of course.\n",
        "9. James Buchanan - 2 words: And why?\n",
        "10. Dwight D. Eisenhower - 2 words: Highway Legislation.\n",
        "11. William Howard Taft - 2 words: Va., $122.49.\n",
        "12. Lyndon B. Johnson - 2 words: First, programs.\n",
        "13. Woodrow Wilson - 2 words: Savings Certificates.\n",
        "14. Jimmy Carter - 2 words: Eliminate waste.\n",
        "15. Theodore Roosevelt - 2 words: July, 1902.--Revolution.\n",
        "16. Ulysses S. Grant - 2 words: Neither came.\n",
        "17. Abraham Lincoln - 3 words: The war continues.\n",
        "18. Harry S Truman - 3 words: They encourage sabotage.\n",
        "19. Thomas Jefferson - 3 words: Those of Messrs.\n",
        "20. John F. Kennedy - 3 words: Construction is off.\n",
        "\n",
        "Five Longest Sentances\n",
        "1.Chester A. Arthur - 602 words: It shows that the ordinary revenues from all sources for the fiscal year ended June 30, 1883, amounted to $398,287,581.95, whereof there was received-- From customs $214,706,496.93 From internal revenue 144,720,368.98 From sales of public lands 7,955,864.42 From tax on circulation and deposits of national banks 9,111,008.85 From profits on coinage, bullion deposits, and assays 4,460,205.17 From other sources 17,333,637.60 Total 398,287,581.95 For the same period the ordinary expenditures were: For civil expenses $22,343,285.76 For foreign intercourse 2,419,275.24 For Indians 7,362,590.34 For Pensions 66,012,573.64 For the military establishment, including river and harbor improvements and arsenals 48,911,382.93 For the naval establishment, including vessels, machinery, and improvements at navy-yards 15,283,437.17 For miscellaneous expenditures, including public buildings, light-houses, and collecting the revenue 40,098,432.73 For expenditures on account of the District of Columbia 3,817,028.48 For interest on the public debt 59,160,131.25 Total 265,408,137.54 Leaving a surplus revenue of $132,879,444.41, which, with an amount drawn from the cash balance in the Treasury of $1,299,312.55, making $134,178,756.96, was applied to the redemption-- Of bonds for the sinking fund $44,850,700.00 Of fractional currency for the sinking fund 46,556.96 Of funded loan of 1881, continued at 3 12 per cent 65,380,250.00 Of loan of July and August, 1861, continued at 3 1/2 per cent 20,594,600.00 Of funded loan of 1907 1,418,850.00 Of funded loan of 1881 719,150.00 Of loan of February, 1861 18,000.00 Of loan of July and August, 1861 266,600.00 Of loan of March, 1863 116,850.00 Of loan of July, 1882 47,650.00 Of five-twenties of 1862 10,300.00 Of five-twenties of 1864 7,050.00 Of five-twenties of 1865 9,600.00 Of ten-forties of 1864 133,550.00 Of consols of 1865 40,800.00 Of consols of 1867 235,700.00 Of consols of 1868 154,650.00 Of Oregon War debt 5,450.00 Of refunding certificates 109,150.00 Of old demand, compound-interest and other notes 13,300.00 Total 134,178,756.96 The revenue for the present fiscal year, actual and estimated, is as follows: Source For the quarter ended September 30, 1883 (actual) For the remaining three quarters of the year (estimated) From customs $57,402,975.67 $137,597,024.33 From internal revenue 29,662,078.60 90,337,921.40 From sales of public lands 2,932,635.17 5,067,634.83 From tax on circulation and deposits of national banks 1,557,800.88 1,542,199.12 From repayment of interest and sinking fund, Pacific Railway companies 521,059.51 1,478,940.49 From customs fees, fines, penalties, etc 298,696.78 901,303.22 From fees--consular, letters patent, and lands 863,209.80 2,436,790.20 From proceeds of sales of Government property 112,562.23 167,437.77 From profits on coinage, etc 950,229.46 3,149,770.54 From deposits for surveying public lands 172,461.31 327,538.69 From revenues of the District of Columbia 256,017.99 1,643,982.01 From miscellaneous sources 1,237,189.63 2,382,810.37 Total receipts 95,966,917.03 247,033,082.97 The actual and estimated expenses for the same period are: Object For the quarter ended September 30, 1883 (actual) For the remaining three quarters of the year (estimated) For civil and miscellaneous expenses, including public buildings, light-houses, and collecting the revenue $15,385,799.42 $51,114,200.58 For Indians 2,623,390.54 4,126,609.46 For pensions 16,285,261.98 53,714,738.02 For military establishment, including fortifications, river and harbor improvements, and arsenals 13,512,204.33 26,487,795.67 For naval establishment, including vessels and machinery, and improvements at navy-yards 4,199,299.69 12,300,700.31 For expenditures on account of the District of Columbia 1,138,836.41 2,611,163.59 For interest on the public debt 14,797,297.96 39,702,702.04 Total ordinary expenditures 67,942,090.33 190,057,909.67 Total receipts, actual and estimated $343,000,000.00 Total expenditures, actual and estimated 258,000,000.00 85,000,000.00 Estimated amount due the sinking fund 45,816,741.07 Leaving a balance of 39,183,258.93 If the revenue for the fiscal year which will end on June 30, 1885, be estimated upon the basis of existing laws, the Secretary is of the opinion that for that year the receipts will exceed by $60,000,000 the ordinary expenditures including the amount devoted to the sinking fund.\n",
        "\n",
        "2.Jimmy Carter - 597 words: Over the past 48 months, clear progress has been made in solving the challenges we found in January of 1977: \u0095 almost all of our comprehensive energy program have been enacted, and the Department of Energy has been established to administer the program; \u0095 confidence in the government's integrity has been restored, and respect for the government's openness and fairness has been renewed; \u0095 the government has been made more effective and efficient: the Civil Service system was completely reformed for the first time this century; 14 reorganization initiatives have been proposed to the Congress, approved, and implemented; two new Cabinet departments have been created to consolidate and streamline the government's handling of energy and education problems; inspectors general have been placed in each Cabinet department to combat fraud, waste and other abuses; the regulatory process has been reformed through creation of the Regulatory Council, implementation of Executive Order 12044 and its requirement for cost-impact analyses, elimination of unnecessary regulation, and passage of the Regulatory Flexibility Act; procedures have been established to assure citizen participation in government; and the airline, trucking, rail and communications industries are being deregulated; \u0095 critical social problems, many long ignored by the Federal government, have been addressed directly; an urban policy was developed and implemented to reverse the decline in our urban areas; the Social Security System was refinanced to put it on a sound financial basis; the Humphrey-Hawkins Full Employment Act was enacted; Federal assistance for education was expanded by more than 75 percent; the minimum wage was increased to levels needed to ease the effects of inflation; affirmative action has been pursued aggressively-more blacks, Hispanics and women have been appointed to senior government positions and to judgeships than at any other time in our history; the ERA ratification deadline was extended to aid the ratification effort; and minority business procurement by the Federal government has more than doubled; \u0095 the Nation's first sectoral policies were put in place, for the auto and steel industries, with my Administration demonstrating the value of cooperation between the government, business and labor; \u0095 reversing previous trends, real defense spending has increased every year since 1977; the real increase in FY 1980 defense spending is well above 3 percent and I expect FY 1981 defense spending to be even higher; looking ahead, the defense program I am proposing is premised on a real increase in defense spending over the next five years of 20 percent or more; \u0095 the NATO Alliance has proven its unity in responding to the situations in Eastern Europe and Southwest Asia and in agreeing on the issues to be addressed in the review of the Helsinki Final Act currently underway in Madrid; \u0095 the peace process in the Middle East established at Camp David and by the Peace Treaty between Egypt and Israel is being buttressed on two fronts: steady progress in the normalization of Egyptian-Israeli relations in many fields, and the commitment of both Egypt and Israel, with United States' assistance, to see through to successful conclusion the autonomy negotiations for the West Bank and Gaza; \u0095 the Panama Canal Treaties have been put into effect, which has helped to improve relations with Latin America; \u0095 we have continued this Nation's strong commitment to the pursuit of human rights throughout the world, evenhandedly and objectively; our commitment to a worldwide human rights policy has remained firm; and many other countries have given high priority to it; \u0095 our resolve to oppose aggression, such as the illegal invasion of the Soviet Union into Afghanistan, has been supported by tough action.\n",
        "\n",
        "3.Ulysses S. Grant - 380 words: The favorable attention of Congress is invited to the following recommendations of the Secretary of War: A discontinuance of the appointment of extra lieutenants to serve as adjutants and quartermasters; the adoption of a code providing specific penalties for well-defined offenses, so that the inequality of sentences adjudged by courts-martial may be adjusted; the consolidation of accounts under which expenditures are made, as a measure of economy; a reappropriation of the money for the construction of a depot at San Antonio, the title to the site being now perfected; a special act placing the cemetery at the City of Mexico on the same basis as other national cemeteries; authority to purchase sites for military posts in Texas; the appointment of commissary sergeants from noncommissioned officers, as a measure for securing the better care and protection of supplies; an appropriation for the publication of the catalogue and tables of the anatomical section of the Army Medical Museum; a reappropriation of the amount for the manufacture of breech-loading arms, should the selection be so delayed by the board of officers as to leave the former appropriation unexpended at the close of the fiscal year; the sale of such arsenals east of the Mississippi as can be spared, and the proceeds applied to the establishment of one large arsenal of construction and repair upon the Atlantic Coast and the purchase of a suitable site for a proving and experimental ground for heavy ordnance; the abrogation of laws which deprive inventors in the United States service from deriving any benefit from their inventions; the repeal of the law prohibiting promotions in the staff corps; a continuance of the work upon coast defenses; the repeal of the seventh section of the act of July 13, 1866, taking from engineer soldiers the per diem granted to other troops; a limitation of time for presentation of old war claims for subsistence supplies under act of July 4, 1864; and a modification in the mode of the selection of cadets for the Military Academy, in order to enhance the usefulness of the Academy, which is impaired by reason of the large amount of time necessarily expended in giving new cadets a thorough knowledge of the more elementary branches of learning, which they should acquire before entering the Academy.\n",
        "\n",
        "4.Harry S Truman - 376 words: Some are more urgent than others, but all are necessary. (1) Legislation to authorize the President to create fact-finding boards for the prevention of stoppages of work in Nationwide industries after collective bargaining and conciliation and voluntary arbitration have failed--as recommended by me on December 3, 1945. (2) Enactment of a satisfactory full employment bill such as the Senate bill now in conference between the Senate and the House--as recommended by me on September 6, 1945. (3) Legislation to supplement the unemployment insurance benefits for unemployed workers now provided by the different States--as recommended by me on May 1945. (4) Adoption of a permanent Fair Employment Practice Act--as recommended by me on September 6, 1945. (5) Legislation substantially raising the amount of minimum wages now provided by law--as recommended by me on September 6, 1945. (6) Legislation providing for a comprehensive program for scientific research--as recommended by me on September 6, 1945. (7) Legislation enacting a health and medical care program--as recommended by me on November 19, 1945. (8) Legislation adopting the program of universal training--as recommended by me on October 23, 1945. (9) Legislation providing an adequate salary scale for all Government employees in all branches of the Government--as recommended by me on September 6, 1945. (10) Legislation making provision for succession to the Presidency in the event of the death or incapacity or disqualification of the President and Vice President--as recommended by me on June 19, 1945. (11) Legislation for the unification of the armed services--as recommended by me on December 19, 1945. (12) Legislation for the domestic use and control of atomic energy--as recommended by me on October 3, 1945. (13) Retention of the United States Employment Service in the Federal Government for a period at least up to June 30, 1947--as recommended by me on September 6, 1945. (14) Legislation to increase unemployment allowances for veterans in line with increases for civilians--as recommended by me on September 6, 1945. (15) Social security coverage for veterans for their period of military service--as recommended by me on September 6, 1945. (16) Extension of crop insurance--as recommended by me on September 6, 1945. (17) Legislation permitting the sale of ships by the Maritime Commission at home and abroad--as recommended by me on September 6, 1945.\n",
        "\n",
        "5.Millard Fillmore - 354 words: In former messages I have, among other things, respectfully recommended to the consideration of Congress the propriety and necessity of further legislation for the protection and punishment of foreign consuls residing in the United States; to revive, with certain modifications, the act of 10th March, 1838, to restrain unlawful military expeditions against the inhabitants of conterminous states or territories; for the preservation and protection from mutilation or theft of the papers, records, and archives of the nation; for authorizing the surplus revenue to be applied to the payment of the public debt in advance of the time when it will become due; for the establishment of land offices for the sale of the public lands in California and the Territory of Oregon; for the construction of a road from the Mississippi Valley to the Pacific Ocean; for the establishment of a bureau of agriculture for the promotion of that interest, perhaps the most important in the country; for the prevention of frauds upon the Government in applications for pensions and bounty lands; for the establishment of a uniform fee bill, prescribing a specific compensation for every service required of clerks, district attorneys, and marshals; for authorizing an additional regiment of mounted men for the defense of our frontiers against the Indians and for fulfilling our treaty stipulations with Mexico to defend her citizens against the Indians \"with equal diligence and energy as our own;\" for determining the relative rank between the naval and civil officers in our public ships and between the officers of the Army and Navy in the various grades of each; for reorganizing the naval establishment by fixing the number of officers in each grade, and providing for a retired list upon reduced pay of those unfit for active duty; for prescribing and regulating punishments in the Navy; for the appointment of a commission to revise the public statutes of the United States by arranging them in order, supplying deficiencies, correcting incongruities, simplifying their language, and reporting them to Congress for its final action; and for the establishment of a commission to adjudicate and settle private claims against the United States.\n",
        "\n",
        "\n"
       ]
      }
     ],
     "prompt_number": 106
    },
    {
     "cell_type": "raw",
     "metadata": {},
     "source": [
      "For the shortest sentance, I seem to have pulled a certain amount of garbage. For instance, \"The\" is clearly not a sentance and likely some sort of transcription error and \"Va., $122.49\" is imperfect parsing. Franklin D. Roosevelt with \"Abdicated?\" could be arguably a sentance, but the shortest that is definitely a sentance is \"Neither Came\" from a Ulyses Grant state of the union.\n",
      "\n",
      "For longest sentance, each of the canidates is a long list, and which is longest depends on ones definition of a sentance. The first, from Chester A. Arthur, seem like it should really be serveral sentances, but for some reason after dollar amounts there is no punctutation (either commas, semicolons, or periods), so it wasn't really parsed right. \"If the revenue for the fiscal year which will end on June 30, 1885, be estimated upon the basis of existing laws, the Secretary is of the opinion that for that year the receipts will exceed by $60,000,000 the ordinary expenditures including the amount devoted to the sinking fund.\" should, at the very least, be its own sentance. I would say Carter's speach, where there are a series of complete clauses seperated by semicolon could also be considered a bunch of sentances stuck together. Grant's 380 word blob is the only one which seems to me to truly constiute a single sentance, since each item in the list is not a complete clause, though it may be shorter than Chester A. Arthurs if the complete clause at the end was removed."
     ]
    }
   ],
   "metadata": {}
  }
 ]
}